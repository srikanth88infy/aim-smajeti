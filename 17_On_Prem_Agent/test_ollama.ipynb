{
 "cells": [
  {
   "cell_type": "code",
   "metadata": {
    "ExecuteTime": {
     "end_time": "2025-03-18T18:17:52.476782Z",
     "start_time": "2025-03-18T18:17:51.982421Z"
    }
   },
   "source": [
    "from langchain_ollama import ChatOllama\n",
    "\n",
    "llm = ChatOllama(model=\"deepseek-r1:8b\")"
   ],
   "outputs": [],
   "execution_count": 1
  },
  {
   "cell_type": "code",
   "metadata": {
    "ExecuteTime": {
     "end_time": "2025-03-18T18:18:15.508283Z",
     "start_time": "2025-03-18T18:17:58.656394Z"
    }
   },
   "source": [
    "for chunk in llm.stream(\"What is the 3rd root of 27?\"):\n",
    "    print(chunk.content, end=\"\")"
   ],
   "outputs": [
    {
     "name": "stdout",
     "output_type": "stream",
     "text": [
      "<think>\n",
      "I need to find the third root of 27. A third root means a number that, when multiplied by itself three times, equals 27.\n",
      "\n",
      "First, I'll consider if 3 is a possible candidate because 3 multiplied by itself two more times gives 3 × 3 × 3 = 27.\n",
      "\n",
      "Since 3 satisfies this condition, it is the cube root of 27.\n",
      "</think>\n",
      "\n",
      "To find the **third root** of **27**, we need to determine a number that, when multiplied by itself three times (i.e., cubed), equals **27**. \n",
      "\n",
      "Let's denote the third root as \\( x \\). This means:\n",
      "\n",
      "\\[\n",
      "x^3 = 27\n",
      "\\]\n",
      "\n",
      "We can solve for \\( x \\) by taking the cube root of both sides:\n",
      "\n",
      "\\[\n",
      "x = \\sqrt[3]{27}\n",
      "\\]\n",
      "\n",
      "Now, let's calculate it step by step:\n",
      "\n",
      "1. **Understand the meaning of a cube root:**\n",
      "   \n",
      "   The cube root of a number \\( y \\), denoted as \\( \\sqrt[3]{y} \\), is a number \\( x \\) such that:\n",
      "   \n",
      "   \\[\n",
      "   x^3 = y\n",
      "   \\]\n",
      "\n",
      "2. **Apply this definition to 27:**\n",
      "   \n",
      "   We need to find a number \\( x \\) where \\( x^3 = 27 \\).\n",
      "\n",
      "3. **Calculate the cube of 3:**\n",
      "   \n",
      "   Let's test \\( x = 3 \\):\n",
      "   \n",
      "   \\[\n",
      "   3^3 = 3 \\times 3 \\times 3 = 9 \\times 3 = 27\n",
      "   \\]\n",
      "   \n",
      "   This satisfies the equation since \\( 3^3 = 27 \\).\n",
      "\n",
      "4. **Conclusion:**\n",
      "   \n",
      "   Therefore, the third root of 27 is:\n",
      "\n",
      "\\[\n",
      "\\boxed{3}\n",
      "\\]"
     ]
    }
   ],
   "execution_count": 2
  }
 ],
 "metadata": {
  "kernelspec": {
   "display_name": ".venv",
   "language": "python",
   "name": "python3"
  },
  "language_info": {
   "codemirror_mode": {
    "name": "ipython",
    "version": 3
   },
   "file_extension": ".py",
   "mimetype": "text/x-python",
   "name": "python",
   "nbconvert_exporter": "python",
   "pygments_lexer": "ipython3",
   "version": "3.13.1"
  }
 },
 "nbformat": 4,
 "nbformat_minor": 2
}
