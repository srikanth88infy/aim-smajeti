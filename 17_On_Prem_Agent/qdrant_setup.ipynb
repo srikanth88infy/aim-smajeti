{
 "cells": [
  {
   "cell_type": "code",
   "metadata": {
    "ExecuteTime": {
     "end_time": "2025-03-18T18:16:59.182721Z",
     "start_time": "2025-03-18T18:16:57.767247Z"
    }
   },
   "source": [
    "from langchain_ollama import OllamaEmbeddings\n",
    "\n",
    "embeddings = OllamaEmbeddings(\n",
    "    model=\"mxbai-embed-large\",\n",
    ")"
   ],
   "outputs": [],
   "execution_count": 1
  },
  {
   "cell_type": "code",
   "metadata": {
    "ExecuteTime": {
     "end_time": "2025-03-18T18:17:01.449503Z",
     "start_time": "2025-03-18T18:17:01.352326Z"
    }
   },
   "source": [
    "from langchain_community.document_loaders import JSONLoader\n",
    "from langchain_community.document_loaders import DirectoryLoader\n",
    "\n",
    "json_loader = DirectoryLoader(\n",
    "    path=\"./data/data\",\n",
    "    glob=\"**/*.json\",\n",
    "    loader_cls=JSONLoader,\n",
    "    loader_kwargs={\"jq_schema\" : \"..\", \"text_content\" : False}\n",
    ")\n",
    "json_documents = json_loader.load()"
   ],
   "outputs": [],
   "execution_count": 2
  },
  {
   "cell_type": "code",
   "metadata": {
    "ExecuteTime": {
     "end_time": "2025-03-18T18:17:03.079005Z",
     "start_time": "2025-03-18T18:17:03.074335Z"
    }
   },
   "source": [
    "len(json_documents)"
   ],
   "outputs": [
    {
     "data": {
      "text/plain": [
       "5828"
      ]
     },
     "execution_count": 3,
     "metadata": {},
     "output_type": "execute_result"
    }
   ],
   "execution_count": 3
  },
  {
   "cell_type": "markdown",
   "metadata": {},
   "source": [
    "> NOTE: This cell will take a while (~15min) as there are a lot of documents - please ensure you'd selected your own data before running this cell."
   ]
  },
  {
   "cell_type": "code",
   "metadata": {
    "ExecuteTime": {
     "end_time": "2025-03-18T18:17:22.494389Z",
     "start_time": "2025-03-18T18:17:20.887189Z"
    }
   },
   "source": [
    "from langchain_qdrant import QdrantVectorStore\n",
    "\n",
    "url = \"127.0.0.1:6334\"\n",
    "qdrant = QdrantVectorStore.from_documents(\n",
    "    json_documents,\n",
    "    embeddings,\n",
    "    url=url,\n",
    "    prefer_grpc=True,\n",
    "    collection_name=\"DnD_Documents\",\n",
    ")"
   ],
   "outputs": [
    {
     "ename": "_InactiveRpcError",
     "evalue": "<_InactiveRpcError of RPC that terminated with:\n\tstatus = StatusCode.UNAVAILABLE\n\tdetails = \"failed to connect to all addresses; last error: UNKNOWN: ipv4:127.0.0.1:6334: Failed to connect to remote host: connect: Connection refused (61)\"\n\tdebug_error_string = \"UNKNOWN:Error received from peer  {created_time:\"2025-03-18T14:17:22.165026-04:00\", grpc_status:14, grpc_message:\"failed to connect to all addresses; last error: UNKNOWN: ipv4:127.0.0.1:6334: Failed to connect to remote host: connect: Connection refused (61)\"}\"\n>",
     "output_type": "error",
     "traceback": [
      "\u001B[31m---------------------------------------------------------------------------\u001B[39m",
      "\u001B[31m_InactiveRpcError\u001B[39m                         Traceback (most recent call last)",
      "\u001B[36mCell\u001B[39m\u001B[36m \u001B[39m\u001B[32mIn[4]\u001B[39m\u001B[32m, line 4\u001B[39m\n\u001B[32m      1\u001B[39m \u001B[38;5;28;01mfrom\u001B[39;00m\u001B[38;5;250m \u001B[39m\u001B[34;01mlangchain_qdrant\u001B[39;00m\u001B[38;5;250m \u001B[39m\u001B[38;5;28;01mimport\u001B[39;00m QdrantVectorStore\n\u001B[32m      3\u001B[39m url = \u001B[33m\"\u001B[39m\u001B[33m127.0.0.1:6334\u001B[39m\u001B[33m\"\u001B[39m\n\u001B[32m----> \u001B[39m\u001B[32m4\u001B[39m qdrant = \u001B[43mQdrantVectorStore\u001B[49m\u001B[43m.\u001B[49m\u001B[43mfrom_documents\u001B[49m\u001B[43m(\u001B[49m\n\u001B[32m      5\u001B[39m \u001B[43m    \u001B[49m\u001B[43mjson_documents\u001B[49m\u001B[43m,\u001B[49m\n\u001B[32m      6\u001B[39m \u001B[43m    \u001B[49m\u001B[43membeddings\u001B[49m\u001B[43m,\u001B[49m\n\u001B[32m      7\u001B[39m \u001B[43m    \u001B[49m\u001B[43murl\u001B[49m\u001B[43m=\u001B[49m\u001B[43murl\u001B[49m\u001B[43m,\u001B[49m\n\u001B[32m      8\u001B[39m \u001B[43m    \u001B[49m\u001B[43mprefer_grpc\u001B[49m\u001B[43m=\u001B[49m\u001B[38;5;28;43;01mTrue\u001B[39;49;00m\u001B[43m,\u001B[49m\n\u001B[32m      9\u001B[39m \u001B[43m    \u001B[49m\u001B[43mcollection_name\u001B[49m\u001B[43m=\u001B[49m\u001B[33;43m\"\u001B[39;49m\u001B[33;43mDnD_Documents\u001B[39;49m\u001B[33;43m\"\u001B[39;49m\u001B[43m,\u001B[49m\n\u001B[32m     10\u001B[39m \u001B[43m)\u001B[49m\n",
      "\u001B[36mFile \u001B[39m\u001B[32m~/aim/bootcamp/aim-smajeti/AIE5/17_On_Prem_Agent/.venv/lib/python3.13/site-packages/langchain_core/vectorstores/base.py:844\u001B[39m, in \u001B[36mVectorStore.from_documents\u001B[39m\u001B[34m(cls, documents, embedding, **kwargs)\u001B[39m\n\u001B[32m    841\u001B[39m     \u001B[38;5;28;01mif\u001B[39;00m \u001B[38;5;28many\u001B[39m(ids):\n\u001B[32m    842\u001B[39m         kwargs[\u001B[33m\"\u001B[39m\u001B[33mids\u001B[39m\u001B[33m\"\u001B[39m] = ids\n\u001B[32m--> \u001B[39m\u001B[32m844\u001B[39m \u001B[38;5;28;01mreturn\u001B[39;00m \u001B[38;5;28;43mcls\u001B[39;49m\u001B[43m.\u001B[49m\u001B[43mfrom_texts\u001B[49m\u001B[43m(\u001B[49m\u001B[43mtexts\u001B[49m\u001B[43m,\u001B[49m\u001B[43m \u001B[49m\u001B[43membedding\u001B[49m\u001B[43m,\u001B[49m\u001B[43m \u001B[49m\u001B[43mmetadatas\u001B[49m\u001B[43m=\u001B[49m\u001B[43mmetadatas\u001B[49m\u001B[43m,\u001B[49m\u001B[43m \u001B[49m\u001B[43m*\u001B[49m\u001B[43m*\u001B[49m\u001B[43mkwargs\u001B[49m\u001B[43m)\u001B[49m\n",
      "\u001B[36mFile \u001B[39m\u001B[32m~/aim/bootcamp/aim-smajeti/AIE5/17_On_Prem_Agent/.venv/lib/python3.13/site-packages/langchain_qdrant/qdrant.py:343\u001B[39m, in \u001B[36mQdrantVectorStore.from_texts\u001B[39m\u001B[34m(cls, texts, embedding, metadatas, ids, collection_name, location, url, port, grpc_port, prefer_grpc, https, api_key, prefix, timeout, host, path, distance, content_payload_key, metadata_payload_key, vector_name, retrieval_mode, sparse_embedding, sparse_vector_name, collection_create_options, vector_params, sparse_vector_params, batch_size, force_recreate, validate_embeddings, validate_collection_config, **kwargs)\u001B[39m\n\u001B[32m    311\u001B[39m \u001B[38;5;250m\u001B[39m\u001B[33;03m\"\"\"Construct an instance of `QdrantVectorStore` from a list of texts.\u001B[39;00m\n\u001B[32m    312\u001B[39m \n\u001B[32m    313\u001B[39m \u001B[33;03mThis is a user-friendly interface that:\u001B[39;00m\n\u001B[32m   (...)\u001B[39m\u001B[32m    326\u001B[39m \u001B[33;03m    qdrant = Qdrant.from_texts(texts, embeddings, url=\"http://localhost:6333\")\u001B[39;00m\n\u001B[32m    327\u001B[39m \u001B[33;03m\"\"\"\u001B[39;00m\n\u001B[32m    328\u001B[39m client_options = {\n\u001B[32m    329\u001B[39m     \u001B[33m\"\u001B[39m\u001B[33mlocation\u001B[39m\u001B[33m\"\u001B[39m: location,\n\u001B[32m    330\u001B[39m     \u001B[33m\"\u001B[39m\u001B[33murl\u001B[39m\u001B[33m\"\u001B[39m: url,\n\u001B[32m   (...)\u001B[39m\u001B[32m    340\u001B[39m     **kwargs,\n\u001B[32m    341\u001B[39m }\n\u001B[32m--> \u001B[39m\u001B[32m343\u001B[39m qdrant = \u001B[38;5;28;43mcls\u001B[39;49m\u001B[43m.\u001B[49m\u001B[43mconstruct_instance\u001B[49m\u001B[43m(\u001B[49m\n\u001B[32m    344\u001B[39m \u001B[43m    \u001B[49m\u001B[43membedding\u001B[49m\u001B[43m,\u001B[49m\n\u001B[32m    345\u001B[39m \u001B[43m    \u001B[49m\u001B[43mretrieval_mode\u001B[49m\u001B[43m,\u001B[49m\n\u001B[32m    346\u001B[39m \u001B[43m    \u001B[49m\u001B[43msparse_embedding\u001B[49m\u001B[43m,\u001B[49m\n\u001B[32m    347\u001B[39m \u001B[43m    \u001B[49m\u001B[43mclient_options\u001B[49m\u001B[43m,\u001B[49m\n\u001B[32m    348\u001B[39m \u001B[43m    \u001B[49m\u001B[43mcollection_name\u001B[49m\u001B[43m,\u001B[49m\n\u001B[32m    349\u001B[39m \u001B[43m    \u001B[49m\u001B[43mdistance\u001B[49m\u001B[43m,\u001B[49m\n\u001B[32m    350\u001B[39m \u001B[43m    \u001B[49m\u001B[43mcontent_payload_key\u001B[49m\u001B[43m,\u001B[49m\n\u001B[32m    351\u001B[39m \u001B[43m    \u001B[49m\u001B[43mmetadata_payload_key\u001B[49m\u001B[43m,\u001B[49m\n\u001B[32m    352\u001B[39m \u001B[43m    \u001B[49m\u001B[43mvector_name\u001B[49m\u001B[43m,\u001B[49m\n\u001B[32m    353\u001B[39m \u001B[43m    \u001B[49m\u001B[43msparse_vector_name\u001B[49m\u001B[43m,\u001B[49m\n\u001B[32m    354\u001B[39m \u001B[43m    \u001B[49m\u001B[43mforce_recreate\u001B[49m\u001B[43m,\u001B[49m\n\u001B[32m    355\u001B[39m \u001B[43m    \u001B[49m\u001B[43mcollection_create_options\u001B[49m\u001B[43m,\u001B[49m\n\u001B[32m    356\u001B[39m \u001B[43m    \u001B[49m\u001B[43mvector_params\u001B[49m\u001B[43m,\u001B[49m\n\u001B[32m    357\u001B[39m \u001B[43m    \u001B[49m\u001B[43msparse_vector_params\u001B[49m\u001B[43m,\u001B[49m\n\u001B[32m    358\u001B[39m \u001B[43m    \u001B[49m\u001B[43mvalidate_embeddings\u001B[49m\u001B[43m,\u001B[49m\n\u001B[32m    359\u001B[39m \u001B[43m    \u001B[49m\u001B[43mvalidate_collection_config\u001B[49m\u001B[43m,\u001B[49m\n\u001B[32m    360\u001B[39m \u001B[43m\u001B[49m\u001B[43m)\u001B[49m\n\u001B[32m    361\u001B[39m qdrant.add_texts(texts, metadatas, ids, batch_size)\n\u001B[32m    362\u001B[39m \u001B[38;5;28;01mreturn\u001B[39;00m qdrant\n",
      "\u001B[36mFile \u001B[39m\u001B[32m~/aim/bootcamp/aim-smajeti/AIE5/17_On_Prem_Agent/.venv/lib/python3.13/site-packages/langchain_qdrant/qdrant.py:810\u001B[39m, in \u001B[36mQdrantVectorStore.construct_instance\u001B[39m\u001B[34m(cls, embedding, retrieval_mode, sparse_embedding, client_options, collection_name, distance, content_payload_key, metadata_payload_key, vector_name, sparse_vector_name, force_recreate, collection_create_options, vector_params, sparse_vector_params, validate_embeddings, validate_collection_config)\u001B[39m\n\u001B[32m    807\u001B[39m collection_name = collection_name \u001B[38;5;129;01mor\u001B[39;00m uuid.uuid4().hex\n\u001B[32m    808\u001B[39m client = QdrantClient(**client_options)\n\u001B[32m--> \u001B[39m\u001B[32m810\u001B[39m collection_exists = \u001B[43mclient\u001B[49m\u001B[43m.\u001B[49m\u001B[43mcollection_exists\u001B[49m\u001B[43m(\u001B[49m\u001B[43mcollection_name\u001B[49m\u001B[43m)\u001B[49m\n\u001B[32m    812\u001B[39m \u001B[38;5;28;01mif\u001B[39;00m collection_exists \u001B[38;5;129;01mand\u001B[39;00m force_recreate:\n\u001B[32m    813\u001B[39m     client.delete_collection(collection_name)\n",
      "\u001B[36mFile \u001B[39m\u001B[32m~/aim/bootcamp/aim-smajeti/AIE5/17_On_Prem_Agent/.venv/lib/python3.13/site-packages/qdrant_client/qdrant_client.py:2166\u001B[39m, in \u001B[36mQdrantClient.collection_exists\u001B[39m\u001B[34m(self, collection_name, **kwargs)\u001B[39m\n\u001B[32m   2156\u001B[39m \u001B[38;5;250m\u001B[39m\u001B[33;03m\"\"\"Check whether collection already exists\u001B[39;00m\n\u001B[32m   2157\u001B[39m \n\u001B[32m   2158\u001B[39m \u001B[33;03mArgs:\u001B[39;00m\n\u001B[32m   (...)\u001B[39m\u001B[32m   2162\u001B[39m \u001B[33;03m    True if collection exists, False if not\u001B[39;00m\n\u001B[32m   2163\u001B[39m \u001B[33;03m\"\"\"\u001B[39;00m\n\u001B[32m   2164\u001B[39m \u001B[38;5;28;01massert\u001B[39;00m \u001B[38;5;28mlen\u001B[39m(kwargs) == \u001B[32m0\u001B[39m, \u001B[33mf\u001B[39m\u001B[33m\"\u001B[39m\u001B[33mUnknown arguments: \u001B[39m\u001B[38;5;132;01m{\u001B[39;00m\u001B[38;5;28mlist\u001B[39m(kwargs.keys())\u001B[38;5;132;01m}\u001B[39;00m\u001B[33m\"\u001B[39m\n\u001B[32m-> \u001B[39m\u001B[32m2166\u001B[39m \u001B[38;5;28;01mreturn\u001B[39;00m \u001B[38;5;28;43mself\u001B[39;49m\u001B[43m.\u001B[49m\u001B[43m_client\u001B[49m\u001B[43m.\u001B[49m\u001B[43mcollection_exists\u001B[49m\u001B[43m(\u001B[49m\u001B[43mcollection_name\u001B[49m\u001B[43m=\u001B[49m\u001B[43mcollection_name\u001B[49m\u001B[43m,\u001B[49m\u001B[43m \u001B[49m\u001B[43m*\u001B[49m\u001B[43m*\u001B[49m\u001B[43mkwargs\u001B[49m\u001B[43m)\u001B[49m\n",
      "\u001B[36mFile \u001B[39m\u001B[32m~/aim/bootcamp/aim-smajeti/AIE5/17_On_Prem_Agent/.venv/lib/python3.13/site-packages/qdrant_client/qdrant_remote.py:2589\u001B[39m, in \u001B[36mQdrantRemote.collection_exists\u001B[39m\u001B[34m(self, collection_name, **kwargs)\u001B[39m\n\u001B[32m   2587\u001B[39m \u001B[38;5;28;01mdef\u001B[39;00m\u001B[38;5;250m \u001B[39m\u001B[34mcollection_exists\u001B[39m(\u001B[38;5;28mself\u001B[39m, collection_name: \u001B[38;5;28mstr\u001B[39m, **kwargs: Any) -> \u001B[38;5;28mbool\u001B[39m:\n\u001B[32m   2588\u001B[39m     \u001B[38;5;28;01mif\u001B[39;00m \u001B[38;5;28mself\u001B[39m._prefer_grpc:\n\u001B[32m-> \u001B[39m\u001B[32m2589\u001B[39m         \u001B[38;5;28;01mreturn\u001B[39;00m \u001B[38;5;28;43mself\u001B[39;49m\u001B[43m.\u001B[49m\u001B[43mgrpc_collections\u001B[49m\u001B[43m.\u001B[49m\u001B[43mCollectionExists\u001B[49m\u001B[43m(\u001B[49m\n\u001B[32m   2590\u001B[39m \u001B[43m            \u001B[49m\u001B[43mgrpc\u001B[49m\u001B[43m.\u001B[49m\u001B[43mCollectionExistsRequest\u001B[49m\u001B[43m(\u001B[49m\u001B[43mcollection_name\u001B[49m\u001B[43m=\u001B[49m\u001B[43mcollection_name\u001B[49m\u001B[43m)\u001B[49m\u001B[43m,\u001B[49m\n\u001B[32m   2591\u001B[39m \u001B[43m            \u001B[49m\u001B[43mtimeout\u001B[49m\u001B[43m=\u001B[49m\u001B[38;5;28;43mself\u001B[39;49m\u001B[43m.\u001B[49m\u001B[43m_timeout\u001B[49m\u001B[43m,\u001B[49m\n\u001B[32m   2592\u001B[39m \u001B[43m        \u001B[49m\u001B[43m)\u001B[49m.result.exists\n\u001B[32m   2594\u001B[39m     result: Optional[models.CollectionExistence] = \u001B[38;5;28mself\u001B[39m.http.collections_api.collection_exists(\n\u001B[32m   2595\u001B[39m         collection_name=collection_name\n\u001B[32m   2596\u001B[39m     ).result\n\u001B[32m   2597\u001B[39m     \u001B[38;5;28;01massert\u001B[39;00m result \u001B[38;5;129;01mis\u001B[39;00m \u001B[38;5;129;01mnot\u001B[39;00m \u001B[38;5;28;01mNone\u001B[39;00m, \u001B[33m\"\u001B[39m\u001B[33mCollection exists returned None\u001B[39m\u001B[33m\"\u001B[39m\n",
      "\u001B[36mFile \u001B[39m\u001B[32m~/aim/bootcamp/aim-smajeti/AIE5/17_On_Prem_Agent/.venv/lib/python3.13/site-packages/grpc/_interceptor.py:277\u001B[39m, in \u001B[36m_UnaryUnaryMultiCallable.__call__\u001B[39m\u001B[34m(self, request, timeout, metadata, credentials, wait_for_ready, compression)\u001B[39m\n\u001B[32m    268\u001B[39m \u001B[38;5;28;01mdef\u001B[39;00m\u001B[38;5;250m \u001B[39m\u001B[34m__call__\u001B[39m(\n\u001B[32m    269\u001B[39m     \u001B[38;5;28mself\u001B[39m,\n\u001B[32m    270\u001B[39m     request: Any,\n\u001B[32m   (...)\u001B[39m\u001B[32m    275\u001B[39m     compression: Optional[grpc.Compression] = \u001B[38;5;28;01mNone\u001B[39;00m,\n\u001B[32m    276\u001B[39m ) -> Any:\n\u001B[32m--> \u001B[39m\u001B[32m277\u001B[39m     response, ignored_call = \u001B[38;5;28;43mself\u001B[39;49m\u001B[43m.\u001B[49m\u001B[43m_with_call\u001B[49m\u001B[43m(\u001B[49m\n\u001B[32m    278\u001B[39m \u001B[43m        \u001B[49m\u001B[43mrequest\u001B[49m\u001B[43m,\u001B[49m\n\u001B[32m    279\u001B[39m \u001B[43m        \u001B[49m\u001B[43mtimeout\u001B[49m\u001B[43m=\u001B[49m\u001B[43mtimeout\u001B[49m\u001B[43m,\u001B[49m\n\u001B[32m    280\u001B[39m \u001B[43m        \u001B[49m\u001B[43mmetadata\u001B[49m\u001B[43m=\u001B[49m\u001B[43mmetadata\u001B[49m\u001B[43m,\u001B[49m\n\u001B[32m    281\u001B[39m \u001B[43m        \u001B[49m\u001B[43mcredentials\u001B[49m\u001B[43m=\u001B[49m\u001B[43mcredentials\u001B[49m\u001B[43m,\u001B[49m\n\u001B[32m    282\u001B[39m \u001B[43m        \u001B[49m\u001B[43mwait_for_ready\u001B[49m\u001B[43m=\u001B[49m\u001B[43mwait_for_ready\u001B[49m\u001B[43m,\u001B[49m\n\u001B[32m    283\u001B[39m \u001B[43m        \u001B[49m\u001B[43mcompression\u001B[49m\u001B[43m=\u001B[49m\u001B[43mcompression\u001B[49m\u001B[43m,\u001B[49m\n\u001B[32m    284\u001B[39m \u001B[43m    \u001B[49m\u001B[43m)\u001B[49m\n\u001B[32m    285\u001B[39m     \u001B[38;5;28;01mreturn\u001B[39;00m response\n",
      "\u001B[36mFile \u001B[39m\u001B[32m~/aim/bootcamp/aim-smajeti/AIE5/17_On_Prem_Agent/.venv/lib/python3.13/site-packages/grpc/_interceptor.py:332\u001B[39m, in \u001B[36m_UnaryUnaryMultiCallable._with_call\u001B[39m\u001B[34m(self, request, timeout, metadata, credentials, wait_for_ready, compression)\u001B[39m\n\u001B[32m    327\u001B[39m         \u001B[38;5;28;01mreturn\u001B[39;00m _FailureOutcome(exception, sys.exc_info()[\u001B[32m2\u001B[39m])\n\u001B[32m    329\u001B[39m call = \u001B[38;5;28mself\u001B[39m._interceptor.intercept_unary_unary(\n\u001B[32m    330\u001B[39m     continuation, client_call_details, request\n\u001B[32m    331\u001B[39m )\n\u001B[32m--> \u001B[39m\u001B[32m332\u001B[39m \u001B[38;5;28;01mreturn\u001B[39;00m \u001B[43mcall\u001B[49m\u001B[43m.\u001B[49m\u001B[43mresult\u001B[49m\u001B[43m(\u001B[49m\u001B[43m)\u001B[49m, call\n",
      "\u001B[36mFile \u001B[39m\u001B[32m~/aim/bootcamp/aim-smajeti/AIE5/17_On_Prem_Agent/.venv/lib/python3.13/site-packages/grpc/_channel.py:440\u001B[39m, in \u001B[36m_InactiveRpcError.result\u001B[39m\u001B[34m(self, timeout)\u001B[39m\n\u001B[32m    436\u001B[39m \u001B[38;5;28;01mdef\u001B[39;00m\u001B[38;5;250m \u001B[39m\u001B[34mresult\u001B[39m(\n\u001B[32m    437\u001B[39m     \u001B[38;5;28mself\u001B[39m, timeout: Optional[\u001B[38;5;28mfloat\u001B[39m] = \u001B[38;5;28;01mNone\u001B[39;00m\n\u001B[32m    438\u001B[39m ) -> Any:  \u001B[38;5;66;03m# pylint: disable=unused-argument\u001B[39;00m\n\u001B[32m    439\u001B[39m \u001B[38;5;250m    \u001B[39m\u001B[33;03m\"\"\"See grpc.Future.result.\"\"\"\u001B[39;00m\n\u001B[32m--> \u001B[39m\u001B[32m440\u001B[39m     \u001B[38;5;28;01mraise\u001B[39;00m \u001B[38;5;28mself\u001B[39m\n",
      "\u001B[36mFile \u001B[39m\u001B[32m~/aim/bootcamp/aim-smajeti/AIE5/17_On_Prem_Agent/.venv/lib/python3.13/site-packages/grpc/_interceptor.py:315\u001B[39m, in \u001B[36m_UnaryUnaryMultiCallable._with_call.<locals>.continuation\u001B[39m\u001B[34m(new_details, request)\u001B[39m\n\u001B[32m    306\u001B[39m (\n\u001B[32m    307\u001B[39m     new_method,\n\u001B[32m    308\u001B[39m     new_timeout,\n\u001B[32m   (...)\u001B[39m\u001B[32m    312\u001B[39m     new_compression,\n\u001B[32m    313\u001B[39m ) = _unwrap_client_call_details(new_details, client_call_details)\n\u001B[32m    314\u001B[39m \u001B[38;5;28;01mtry\u001B[39;00m:\n\u001B[32m--> \u001B[39m\u001B[32m315\u001B[39m     response, call = \u001B[38;5;28;43mself\u001B[39;49m\u001B[43m.\u001B[49m\u001B[43m_thunk\u001B[49m\u001B[43m(\u001B[49m\u001B[43mnew_method\u001B[49m\u001B[43m)\u001B[49m\u001B[43m.\u001B[49m\u001B[43mwith_call\u001B[49m\u001B[43m(\u001B[49m\n\u001B[32m    316\u001B[39m \u001B[43m        \u001B[49m\u001B[43mrequest\u001B[49m\u001B[43m,\u001B[49m\n\u001B[32m    317\u001B[39m \u001B[43m        \u001B[49m\u001B[43mtimeout\u001B[49m\u001B[43m=\u001B[49m\u001B[43mnew_timeout\u001B[49m\u001B[43m,\u001B[49m\n\u001B[32m    318\u001B[39m \u001B[43m        \u001B[49m\u001B[43mmetadata\u001B[49m\u001B[43m=\u001B[49m\u001B[43mnew_metadata\u001B[49m\u001B[43m,\u001B[49m\n\u001B[32m    319\u001B[39m \u001B[43m        \u001B[49m\u001B[43mcredentials\u001B[49m\u001B[43m=\u001B[49m\u001B[43mnew_credentials\u001B[49m\u001B[43m,\u001B[49m\n\u001B[32m    320\u001B[39m \u001B[43m        \u001B[49m\u001B[43mwait_for_ready\u001B[49m\u001B[43m=\u001B[49m\u001B[43mnew_wait_for_ready\u001B[49m\u001B[43m,\u001B[49m\n\u001B[32m    321\u001B[39m \u001B[43m        \u001B[49m\u001B[43mcompression\u001B[49m\u001B[43m=\u001B[49m\u001B[43mnew_compression\u001B[49m\u001B[43m,\u001B[49m\n\u001B[32m    322\u001B[39m \u001B[43m    \u001B[49m\u001B[43m)\u001B[49m\n\u001B[32m    323\u001B[39m     \u001B[38;5;28;01mreturn\u001B[39;00m _UnaryOutcome(response, call)\n\u001B[32m    324\u001B[39m \u001B[38;5;28;01mexcept\u001B[39;00m grpc.RpcError \u001B[38;5;28;01mas\u001B[39;00m rpc_error:\n",
      "\u001B[36mFile \u001B[39m\u001B[32m~/aim/bootcamp/aim-smajeti/AIE5/17_On_Prem_Agent/.venv/lib/python3.13/site-packages/grpc/_channel.py:1198\u001B[39m, in \u001B[36m_UnaryUnaryMultiCallable.with_call\u001B[39m\u001B[34m(self, request, timeout, metadata, credentials, wait_for_ready, compression)\u001B[39m\n\u001B[32m   1183\u001B[39m \u001B[38;5;28;01mdef\u001B[39;00m\u001B[38;5;250m \u001B[39m\u001B[34mwith_call\u001B[39m(\n\u001B[32m   1184\u001B[39m     \u001B[38;5;28mself\u001B[39m,\n\u001B[32m   1185\u001B[39m     request: Any,\n\u001B[32m   (...)\u001B[39m\u001B[32m   1190\u001B[39m     compression: Optional[grpc.Compression] = \u001B[38;5;28;01mNone\u001B[39;00m,\n\u001B[32m   1191\u001B[39m ) -> Tuple[Any, grpc.Call]:\n\u001B[32m   1192\u001B[39m     (\n\u001B[32m   1193\u001B[39m         state,\n\u001B[32m   1194\u001B[39m         call,\n\u001B[32m   1195\u001B[39m     ) = \u001B[38;5;28mself\u001B[39m._blocking(\n\u001B[32m   1196\u001B[39m         request, timeout, metadata, credentials, wait_for_ready, compression\n\u001B[32m   1197\u001B[39m     )\n\u001B[32m-> \u001B[39m\u001B[32m1198\u001B[39m     \u001B[38;5;28;01mreturn\u001B[39;00m \u001B[43m_end_unary_response_blocking\u001B[49m\u001B[43m(\u001B[49m\u001B[43mstate\u001B[49m\u001B[43m,\u001B[49m\u001B[43m \u001B[49m\u001B[43mcall\u001B[49m\u001B[43m,\u001B[49m\u001B[43m \u001B[49m\u001B[38;5;28;43;01mTrue\u001B[39;49;00m\u001B[43m,\u001B[49m\u001B[43m \u001B[49m\u001B[38;5;28;43;01mNone\u001B[39;49;00m\u001B[43m)\u001B[49m\n",
      "\u001B[36mFile \u001B[39m\u001B[32m~/aim/bootcamp/aim-smajeti/AIE5/17_On_Prem_Agent/.venv/lib/python3.13/site-packages/grpc/_channel.py:1006\u001B[39m, in \u001B[36m_end_unary_response_blocking\u001B[39m\u001B[34m(state, call, with_call, deadline)\u001B[39m\n\u001B[32m   1004\u001B[39m         \u001B[38;5;28;01mreturn\u001B[39;00m state.response\n\u001B[32m   1005\u001B[39m \u001B[38;5;28;01melse\u001B[39;00m:\n\u001B[32m-> \u001B[39m\u001B[32m1006\u001B[39m     \u001B[38;5;28;01mraise\u001B[39;00m _InactiveRpcError(state)\n",
      "\u001B[31m_InactiveRpcError\u001B[39m: <_InactiveRpcError of RPC that terminated with:\n\tstatus = StatusCode.UNAVAILABLE\n\tdetails = \"failed to connect to all addresses; last error: UNKNOWN: ipv4:127.0.0.1:6334: Failed to connect to remote host: connect: Connection refused (61)\"\n\tdebug_error_string = \"UNKNOWN:Error received from peer  {created_time:\"2025-03-18T14:17:22.165026-04:00\", grpc_status:14, grpc_message:\"failed to connect to all addresses; last error: UNKNOWN: ipv4:127.0.0.1:6334: Failed to connect to remote host: connect: Connection refused (61)\"}\"\n>"
     ]
    }
   ],
   "execution_count": 4
  }
 ],
 "metadata": {
  "kernelspec": {
   "display_name": ".venv",
   "language": "python",
   "name": "python3"
  },
  "language_info": {
   "codemirror_mode": {
    "name": "ipython",
    "version": 3
   },
   "file_extension": ".py",
   "mimetype": "text/x-python",
   "name": "python",
   "nbconvert_exporter": "python",
   "pygments_lexer": "ipython3",
   "version": "3.13.1"
  }
 },
 "nbformat": 4,
 "nbformat_minor": 2
}
