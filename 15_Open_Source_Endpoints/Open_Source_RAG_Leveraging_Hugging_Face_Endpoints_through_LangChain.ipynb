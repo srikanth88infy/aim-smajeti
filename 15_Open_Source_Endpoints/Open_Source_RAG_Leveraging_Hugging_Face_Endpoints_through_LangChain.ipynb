{
 "cells": [
  {
   "cell_type": "markdown",
   "metadata": {
    "id": "lcW6UWldWUMp"
   },
   "source": [
    "# Open Source RAG - Leveraging Hugging Face Endpoints through LangChain\n",
    "\n",
    "In the following notebook we will dive into the world of Open Source models hosted on Hugging Face's [inference endpoints](https://ui.endpoints.huggingface.co/).\n",
    "\n",
    "The notebook will be broken into the following parts:\n",
    "\n",
    "- 🤝 Breakout Room #2:\n",
    "  1. Install required libraries\n",
    "  2. Set Environment Variables\n",
    "  3. Creating LangChain components powered by the endpoints\n",
    "  4. Creating a simple RAG pipeline with [LangChain v0.2.0](https://blog.langchain.dev/langchain-v02-leap-to-stability/)"
   ]
  },
  {
   "cell_type": "markdown",
   "metadata": {
    "id": "-spIWt2J3Quk"
   },
   "source": [
    "## Task 1: Install required libraries\n",
    "\n",
    "Now we've got to get our required libraries!\n",
    "\n",
    "We'll start with our `langchain` and `huggingface` dependencies.\n",
    "\n",
    "> You don't need to run this cell if you're running the notebook locally."
   ]
  },
  {
   "cell_type": "code",
   "execution_count": 95,
   "metadata": {
    "id": "EwGLnp31jXJj"
   },
   "outputs": [],
   "source": [
    "#!pip install -qU langchain-huggingface langchain-community faiss-cpu"
   ]
  },
  {
   "cell_type": "markdown",
   "metadata": {
    "id": "SpZTBLwK3TIz"
   },
   "source": [
    "## Task 2: Set Environment Variables\n",
    "\n",
    "We'll need to set our `HF_TOKEN` so that we can send requests to our protected API endpoint.\n",
    "\n",
    "We'll also set-up our OpenAI API key, which we'll leverage later.\n",
    "\n"
   ]
  },
  {
   "cell_type": "code",
   "metadata": {
    "colab": {
     "base_uri": "https://localhost:8080/"
    },
    "id": "NspG8I0XlFTt",
    "outputId": "edbf992c-97c0-46b1-9b69-40651a5e60d1",
    "ExecuteTime": {
     "end_time": "2025-03-12T21:26:20.260079Z",
     "start_time": "2025-03-12T21:26:06.674930Z"
    }
   },
   "source": [
    "import os\n",
    "import getpass\n",
    "\n",
    "os.environ[\"HF_TOKEN\"] = getpass.getpass(\"HuggingFace Write Token: \")"
   ],
   "outputs": [],
   "execution_count": 1
  },
  {
   "cell_type": "markdown",
   "metadata": {
    "id": "QMru14VBZAtw"
   },
   "source": [
    "## Task 3: Creating LangChain components powered by the endpoints\n",
    "\n",
    "We're going to wrap our endpoints in LangChain components in order to leverage them, thanks to LCEL, as we would any other LCEL component!"
   ]
  },
  {
   "cell_type": "markdown",
   "metadata": {
    "id": "TGooehdzcmPb"
   },
   "source": [
    "### HuggingFaceEndpoint for LLM\n",
    "\n",
    "We can use the `HuggingFaceEndpoint` found [here](https://github.com/langchain-ai/langchain/blob/master/libs/community/langchain_community/llms/huggingface_endpoint.py) to power our chain - let's look at how we would implement it."
   ]
  },
  {
   "cell_type": "code",
   "metadata": {
    "id": "N7u2Tu1FsURh",
    "ExecuteTime": {
     "end_time": "2025-03-12T21:26:23.928549Z",
     "start_time": "2025-03-12T21:26:23.926319Z"
    }
   },
   "source": "YOUR_LLM_ENDPOINT_URL = \"https://c3lhpwroyou5gs1w.us-east-1.aws.endpoints.huggingface.cloud\"",
   "outputs": [],
   "execution_count": 2
  },
  {
   "cell_type": "code",
   "metadata": {
    "colab": {
     "base_uri": "https://localhost:8080/"
    },
    "id": "L3Cz6Mrnt2ku",
    "outputId": "f23f611f-5f08-4332-a74c-5b8d8311d185",
    "ExecuteTime": {
     "end_time": "2025-03-12T21:26:26.413041Z",
     "start_time": "2025-03-12T21:26:25.360724Z"
    }
   },
   "source": [
    "from langchain_community.llms import HuggingFaceEndpoint\n",
    "\n",
    "hf_llm = HuggingFaceEndpoint(\n",
    "    endpoint_url=f\"{YOUR_LLM_ENDPOINT_URL}\",\n",
    "    task=\"text-generation\",\n",
    "    max_new_tokens=512,\n",
    "    top_k=10,\n",
    "    top_p=0.95,\n",
    "    typical_p=0.95,\n",
    "    temperature=0.01,\n",
    "    repetition_penalty=1.03,\n",
    ")"
   ],
   "outputs": [
    {
     "name": "stderr",
     "output_type": "stream",
     "text": [
      "/var/folders/b6/ky1rhlj5739fjh911fwq_v7w0000gn/T/ipykernel_32135/1708455309.py:3: LangChainDeprecationWarning: The class `HuggingFaceEndpoint` was deprecated in LangChain 0.0.37 and will be removed in 1.0. An updated version of the class exists in the :class:`~langchain-huggingface package and should be used instead. To use it run `pip install -U :class:`~langchain-huggingface` and import as `from :class:`~langchain_huggingface import HuggingFaceEndpoint``.\n",
      "  hf_llm = HuggingFaceEndpoint(\n"
     ]
    }
   ],
   "execution_count": 3
  },
  {
   "cell_type": "markdown",
   "metadata": {
    "id": "fun4XrRxZK9n"
   },
   "source": [
    "Now we can use our endpoint like we would any other LLM!"
   ]
  },
  {
   "cell_type": "code",
   "metadata": {
    "colab": {
     "base_uri": "https://localhost:8080/",
     "height": 127
    },
    "id": "OFAbFT91Z8QV",
    "outputId": "588714ad-da28-4330-801b-7121b6f17ccf",
    "ExecuteTime": {
     "end_time": "2025-03-12T21:27:43.384661Z",
     "start_time": "2025-03-12T21:26:29.954943Z"
    }
   },
   "source": [
    "hf_llm.invoke(\"Hello, how are you?\")"
   ],
   "outputs": [
    {
     "data": {
      "text/plain": [
       "\" I hope you're having a great day! I just wanted to say hi and let you know that I'm here for you. If you ever need any help or just want to chat, feel free to reach out to me anytime. I'm always here to listen and help in any way I can. Take care and have a great day! Read more\\nHello, how are you? I hope you're having a great day! I just wanted to say hi and let you know that I'm here for you. If you ever need any help or just want to chat, feel free to reach out to me anytime. I'm always here to listen and help in any way I can. Take care and have a great day! Read more\\nHello, how are you? I hope you're having a great day! I just wanted to say hi and let you know that I'm here for you. If you ever need any help or just want to chat, feel free to reach out to me anytime. I'm always here to listen and help in any way I can. Take care and have a great day! Read more\\nHello, how are you? I hope you're having a great day! I just wanted to say hi and let you know that I'm here for you. If you ever need any help or just want to chat, feel free to reach out to me anytime. I'm always here to listen and help in any way I can. Take care and have a great day! Read more\\nHello, how are you? I hope you're having a great day! I just wanted to say hi and let you know that I'm here for you. If you ever need any help or just want to chat, feel free to reach out to me anytime. I'm always here to listen and help in any way I can. Take care and have a great day! Read more\\nHello, how are you? I hope you're having a great day! I just wanted to say hi and let you know that I'm here for you. If you ever need any help or just want to chat, feel free to reach out to me anytime. I'm always here to listen and help in any way I can. Take care and have a great day! Read more\\nHello, how are you? I hope you're having a great day! I just wanted to say hi and let you know that I'm here for you. If you ever need any help or just want to chat, feel free to reach out to\""
      ]
     },
     "execution_count": 4,
     "metadata": {},
     "output_type": "execute_result"
    }
   ],
   "execution_count": 4
  },
  {
   "cell_type": "markdown",
   "metadata": {
    "id": "ngH3fhw4aQ8T"
   },
   "source": [
    "Now we can add a RAG-style prompt using Llama 3 Instruct's prompt templating!"
   ]
  },
  {
   "cell_type": "code",
   "metadata": {
    "id": "zdvv4JmkzEtj",
    "ExecuteTime": {
     "end_time": "2025-03-12T21:27:51.995300Z",
     "start_time": "2025-03-12T21:27:51.893784Z"
    }
   },
   "source": [
    "from langchain_core.prompts import PromptTemplate\n",
    "\n",
    "RAG_PROMPT_TEMPLATE = \"\"\"\\\n",
    "<|start_header_id|>system<|end_header_id|>\n",
    "You are a helpful assistant. You answer user questions based on provided context. If you can't answer the question with the provided context, say you don't know.<|eot_id|>\n",
    "\n",
    "<|start_header_id|>user<|end_header_id|>\n",
    "User Query:\n",
    "{query}\n",
    "\n",
    "Context:\n",
    "{context}<|eot_id|>\n",
    "\n",
    "<|start_header_id|>assistant<|end_header_id|>\n",
    "\"\"\"\n",
    "\n",
    "rag_prompt = PromptTemplate.from_template(RAG_PROMPT_TEMPLATE)"
   ],
   "outputs": [],
   "execution_count": 5
  },
  {
   "cell_type": "markdown",
   "metadata": {
    "id": "Oe0Qrzn4adzh"
   },
   "source": [
    "Let's create a simple LCEL chain using our prompt template Runnable and our LLM Runnable."
   ]
  },
  {
   "cell_type": "code",
   "metadata": {
    "id": "CE4djpxM0-Fg",
    "ExecuteTime": {
     "end_time": "2025-03-12T21:27:54.426274Z",
     "start_time": "2025-03-12T21:27:54.423911Z"
    }
   },
   "source": [
    "rag_chain = rag_prompt | hf_llm"
   ],
   "outputs": [],
   "execution_count": 6
  },
  {
   "cell_type": "code",
   "metadata": {
    "colab": {
     "base_uri": "https://localhost:8080/",
     "height": 36
    },
    "id": "PNwrLXqDxHDY",
    "outputId": "f6803286-1aa5-488a-eea9-8bece68da7f5",
    "ExecuteTime": {
     "end_time": "2025-03-12T21:27:56.410069Z",
     "start_time": "2025-03-12T21:27:55.527632Z"
    }
   },
   "source": [
    "rag_chain.invoke({\"query\" : \"Who old is Carl?\", \"context\" : \"Carl is a sweet dude, he's 40.\"})"
   ],
   "outputs": [
    {
     "data": {
      "text/plain": [
       "'According to the context, Carl is 40 years old.'"
      ]
     },
     "execution_count": 7,
     "metadata": {},
     "output_type": "execute_result"
    }
   ],
   "execution_count": 7
  },
  {
   "cell_type": "markdown",
   "metadata": {
    "id": "emGw4-66aBfa"
   },
   "source": [
    "### HuggingFaceInferenceAPIEmbeddings\n",
    "\n",
    "Now we can leverage the `HuggingFaceInferenceAPIEmbeddings` module in LangChain to connect to our Hugging Face Inference Endpoint hosted embedding model."
   ]
  },
  {
   "cell_type": "code",
   "metadata": {
    "id": "n9Q7e4Gnwe_C",
    "ExecuteTime": {
     "end_time": "2025-03-12T21:27:59.939283Z",
     "start_time": "2025-03-12T21:27:59.888132Z"
    }
   },
   "source": [
    "from langchain_huggingface.embeddings import HuggingFaceEndpointEmbeddings\n",
    "\n",
    "YOUR_EMBED_MODEL_URL = \"https://mp95gvhqhprt79eo.us-east-1.aws.endpoints.huggingface.cloud\"\n",
    "\n",
    "hf_embeddings = HuggingFaceEndpointEmbeddings(\n",
    "    model=YOUR_EMBED_MODEL_URL,\n",
    "    task=\"feature-extraction\",\n",
    "    huggingfacehub_api_token=os.environ[\"HF_TOKEN\"],\n",
    ")"
   ],
   "outputs": [],
   "execution_count": 8
  },
  {
   "cell_type": "markdown",
   "metadata": {
    "id": "YXYRBqbBayWb"
   },
   "source": [
    "Let's build a simple cosine-similarity function to verify our endpoint is working as expected."
   ]
  },
  {
   "cell_type": "code",
   "metadata": {
    "id": "lOP6LKr74RG8",
    "ExecuteTime": {
     "end_time": "2025-03-12T21:28:02.894151Z",
     "start_time": "2025-03-12T21:28:01.979373Z"
    }
   },
   "source": [
    "import numpy as np\n",
    "from numpy.linalg import norm\n",
    "\n",
    "def cosine_similarity(phrase_1, phrase_2):\n",
    "  vec_1 = hf_embeddings.embed_documents([phrase_1])[0]\n",
    "  vec2_2 = hf_embeddings.embed_documents([phrase_2])[0]\n",
    "  return np.dot(vec_1, vec2_2) / (norm(vec_1) * norm(vec2_2))"
   ],
   "outputs": [],
   "execution_count": 9
  },
  {
   "cell_type": "markdown",
   "metadata": {
    "id": "uGZNhxF2bVIr"
   },
   "source": [
    "Let's try a few examples below!"
   ]
  },
  {
   "cell_type": "code",
   "metadata": {
    "colab": {
     "base_uri": "https://localhost:8080/"
    },
    "id": "5o_cqEZ34f15",
    "outputId": "d3eb4933-8842-4278-fe48-2dc15e430b60",
    "ExecuteTime": {
     "end_time": "2025-03-12T21:28:06.830561Z",
     "start_time": "2025-03-12T21:28:05.266548Z"
    }
   },
   "source": [
    "cosine_similarity(\"I love my fluffy dog!\", \"I adore this furry puppy!\")"
   ],
   "outputs": [
    {
     "data": {
      "text/plain": [
       "0.8903063446222078"
      ]
     },
     "execution_count": 10,
     "metadata": {},
     "output_type": "execute_result"
    }
   ],
   "execution_count": 10
  },
  {
   "cell_type": "code",
   "metadata": {
    "colab": {
     "base_uri": "https://localhost:8080/"
    },
    "id": "R1nsAV1n4w4a",
    "outputId": "db53d783-4c87-404f-de67-fc1d01583e68",
    "ExecuteTime": {
     "end_time": "2025-03-12T21:28:08.711722Z",
     "start_time": "2025-03-12T21:28:08.626636Z"
    }
   },
   "source": [
    "cosine_similarity(\"I love my fluffy dog!\", \"Trekking across the arctic is tough work.\")"
   ],
   "outputs": [
    {
     "data": {
      "text/plain": [
       "0.6667445107282143"
      ]
     },
     "execution_count": 11,
     "metadata": {},
     "output_type": "execute_result"
    }
   ],
   "execution_count": 11
  },
  {
   "cell_type": "markdown",
   "metadata": {
    "id": "iiz6vKMlbbP4"
   },
   "source": [
    "## Task 4: Preparing Data!\n",
    "\n",
    "We'll start by loading some data from GitHub (Paul Graham's Essays) and then move to chunking them into manageable pieces!\n",
    "\n",
    "First - let's grab the repository where the files live."
   ]
  },
  {
   "cell_type": "code",
   "metadata": {
    "colab": {
     "base_uri": "https://localhost:8080/"
    },
    "id": "AkuzZben5Eqp",
    "outputId": "eb8d39ae-fd70-4691-ddaa-1f8aa15f1c19",
    "ExecuteTime": {
     "end_time": "2025-03-12T21:28:11.287318Z",
     "start_time": "2025-03-12T21:28:11.109079Z"
    }
   },
   "source": [
    "!git clone https://github.com/dbredvick/paul-graham-to-kindle.git"
   ],
   "outputs": [
    {
     "name": "stdout",
     "output_type": "stream",
     "text": [
      "fatal: destination path 'paul-graham-to-kindle' already exists and is not an empty directory.\r\n"
     ]
    }
   ],
   "execution_count": 12
  },
  {
   "cell_type": "markdown",
   "metadata": {
    "id": "8prMk6R0bsYd"
   },
   "source": [
    "Next - we can load them using LangChain!"
   ]
  },
  {
   "cell_type": "code",
   "metadata": {
    "id": "K155zM7e53lt",
    "ExecuteTime": {
     "end_time": "2025-03-12T21:28:16.370619Z",
     "start_time": "2025-03-12T21:28:16.353840Z"
    }
   },
   "source": [
    "from langchain_community.document_loaders import TextLoader\n",
    "\n",
    "document_loader = TextLoader(\"./paul-graham-to-kindle/paul_graham_essays.txt\")\n",
    "documents = document_loader.load()"
   ],
   "outputs": [],
   "execution_count": 13
  },
  {
   "cell_type": "markdown",
   "metadata": {
    "id": "5wYfo6_0bwVc"
   },
   "source": [
    "Now, let's split them into 1000 character pieces."
   ]
  },
  {
   "cell_type": "code",
   "metadata": {
    "colab": {
     "base_uri": "https://localhost:8080/"
    },
    "id": "w-Gx_0iL6Ikc",
    "outputId": "4cd1de4f-8a7d-4727-dc92-0ce3d321a82f",
    "ExecuteTime": {
     "end_time": "2025-03-12T21:28:18.867496Z",
     "start_time": "2025-03-12T21:28:18.800725Z"
    }
   },
   "source": [
    "from langchain_text_splitters import RecursiveCharacterTextSplitter\n",
    "\n",
    "text_splitter = RecursiveCharacterTextSplitter(chunk_size=1000, chunk_overlap=30)\n",
    "split_documents = text_splitter.split_documents(documents)\n",
    "len(split_documents)"
   ],
   "outputs": [
    {
     "data": {
      "text/plain": [
       "4265"
      ]
     },
     "execution_count": 14,
     "metadata": {},
     "output_type": "execute_result"
    }
   ],
   "execution_count": 14
  },
  {
   "cell_type": "markdown",
   "metadata": {
    "id": "d5HrkDhTb4i_"
   },
   "source": [
    "Just the same as we would with OpenAI's embeddings model - we can instantiate our `FAISS` vector store with our documents and our `HuggingFaceEmbeddings` model!\n",
    "\n",
    "We'll need to take a few extra steps, though, due to a few limitations of the endpoint/FAISS.\n",
    "\n",
    "We'll start by embeddings our documents in batches of `32`.\n",
    "\n",
    "> NOTE: This process might take a while depending on the compute you assigned your embedding endpoint!"
   ]
  },
  {
   "cell_type": "code",
   "metadata": {
    "id": "ucghQgRp6YXr",
    "ExecuteTime": {
     "end_time": "2025-03-12T21:28:47.878420Z",
     "start_time": "2025-03-12T21:28:21.074384Z"
    }
   },
   "source": [
    "from langchain_community.vectorstores import FAISS\n",
    "\n",
    "for i in range(0, len(split_documents), 32):\n",
    "  if i == 0:\n",
    "    vectorstore = FAISS.from_documents(split_documents[i:i+32], hf_embeddings)\n",
    "    continue\n",
    "  vectorstore.add_documents(split_documents[i:i+32])"
   ],
   "outputs": [],
   "execution_count": 15
  },
  {
   "cell_type": "markdown",
   "metadata": {
    "id": "q07ZUp6Db_AO"
   },
   "source": [
    "Next, we set up FAISS as a retriever."
   ]
  },
  {
   "cell_type": "code",
   "metadata": {
    "id": "fXr-yrAq7h8V",
    "ExecuteTime": {
     "end_time": "2025-03-12T21:28:52.523212Z",
     "start_time": "2025-03-12T21:28:52.520934Z"
    }
   },
   "source": [
    "hf_retriever = vectorstore.as_retriever()"
   ],
   "outputs": [],
   "execution_count": 16
  },
  {
   "cell_type": "markdown",
   "metadata": {
    "id": "sYrW6FRecO7U"
   },
   "source": [
    "## Task 5: Simple LCEL RAG Chain\n",
    "\n",
    "Now we can set up our LCEL RAG chain!\n",
    "\n",
    "> NOTE: We're not returning context for this example, and only returning the text output from the LLM."
   ]
  },
  {
   "cell_type": "code",
   "metadata": {
    "id": "ffIzIlct8ISb",
    "ExecuteTime": {
     "end_time": "2025-03-12T21:28:54.884410Z",
     "start_time": "2025-03-12T21:28:54.868267Z"
    }
   },
   "source": [
    "from operator import itemgetter\n",
    "from langchain.schema.output_parser import StrOutputParser\n",
    "from langchain.schema.runnable import RunnablePassthrough\n",
    "\n",
    "lcel_rag_chain = {\"context\": itemgetter(\"query\") | hf_retriever, \"query\": itemgetter(\"query\")}| rag_prompt | hf_llm"
   ],
   "outputs": [],
   "execution_count": 17
  },
  {
   "cell_type": "code",
   "metadata": {
    "colab": {
     "base_uri": "https://localhost:8080/",
     "height": 127
    },
    "id": "HOQfkEgb8nPH",
    "outputId": "92601728-d001-43e2-e543-e714d66f4f4e",
    "ExecuteTime": {
     "end_time": "2025-03-12T21:30:10.550016Z",
     "start_time": "2025-03-12T21:30:10.340869Z"
    }
   },
   "source": [
    "lcel_rag_chain.invoke({\"query\" : \"What is the best part of Silicon Valley?\"})"
   ],
   "outputs": [
    {
     "ename": "HfHubHTTPError",
     "evalue": "422 Client Error: Unprocessable Entity for url: https://c3lhpwroyou5gs1w.us-east-1.aws.endpoints.huggingface.cloud/ (Request ID: Fm6riq)\n\nInput validation error: `inputs` tokens + `max_new_tokens` must be <= 1512. Given: 1004 `inputs` tokens and 512 `max_new_tokens`\nMake sure 'text-generation' task is supported by the model.",
     "output_type": "error",
     "traceback": [
      "\u001B[0;31m---------------------------------------------------------------------------\u001B[0m",
      "\u001B[0;31mHTTPError\u001B[0m                                 Traceback (most recent call last)",
      "File \u001B[0;32m~/aim/bootcamp/aim-smajeti/AIE5/15_Open_Source_Endpoints/.venv/lib/python3.9/site-packages/huggingface_hub/utils/_http.py:406\u001B[0m, in \u001B[0;36mhf_raise_for_status\u001B[0;34m(response, endpoint_name)\u001B[0m\n\u001B[1;32m    405\u001B[0m \u001B[38;5;28;01mtry\u001B[39;00m:\n\u001B[0;32m--> 406\u001B[0m     \u001B[43mresponse\u001B[49m\u001B[38;5;241;43m.\u001B[39;49m\u001B[43mraise_for_status\u001B[49m\u001B[43m(\u001B[49m\u001B[43m)\u001B[49m\n\u001B[1;32m    407\u001B[0m \u001B[38;5;28;01mexcept\u001B[39;00m HTTPError \u001B[38;5;28;01mas\u001B[39;00m e:\n",
      "File \u001B[0;32m~/aim/bootcamp/aim-smajeti/AIE5/15_Open_Source_Endpoints/.venv/lib/python3.9/site-packages/requests/models.py:1024\u001B[0m, in \u001B[0;36mResponse.raise_for_status\u001B[0;34m(self)\u001B[0m\n\u001B[1;32m   1023\u001B[0m \u001B[38;5;28;01mif\u001B[39;00m http_error_msg:\n\u001B[0;32m-> 1024\u001B[0m     \u001B[38;5;28;01mraise\u001B[39;00m HTTPError(http_error_msg, response\u001B[38;5;241m=\u001B[39m\u001B[38;5;28mself\u001B[39m)\n",
      "\u001B[0;31mHTTPError\u001B[0m: 422 Client Error: Unprocessable Entity for url: https://c3lhpwroyou5gs1w.us-east-1.aws.endpoints.huggingface.cloud/",
      "\nThe above exception was the direct cause of the following exception:\n",
      "\u001B[0;31mHfHubHTTPError\u001B[0m                            Traceback (most recent call last)",
      "Cell \u001B[0;32mIn[19], line 1\u001B[0m\n\u001B[0;32m----> 1\u001B[0m \u001B[43mlcel_rag_chain\u001B[49m\u001B[38;5;241;43m.\u001B[39;49m\u001B[43minvoke\u001B[49m\u001B[43m(\u001B[49m\u001B[43m{\u001B[49m\u001B[38;5;124;43m\"\u001B[39;49m\u001B[38;5;124;43mquery\u001B[39;49m\u001B[38;5;124;43m\"\u001B[39;49m\u001B[43m \u001B[49m\u001B[43m:\u001B[49m\u001B[43m \u001B[49m\u001B[38;5;124;43m\"\u001B[39;49m\u001B[38;5;124;43mWhat is the best part of Silicon Valley?\u001B[39;49m\u001B[38;5;124;43m\"\u001B[39;49m\u001B[43m}\u001B[49m\u001B[43m)\u001B[49m\n",
      "File \u001B[0;32m~/aim/bootcamp/aim-smajeti/AIE5/15_Open_Source_Endpoints/.venv/lib/python3.9/site-packages/langchain_core/runnables/base.py:3029\u001B[0m, in \u001B[0;36mRunnableSequence.invoke\u001B[0;34m(self, input, config, **kwargs)\u001B[0m\n\u001B[1;32m   3027\u001B[0m             \u001B[38;5;28minput\u001B[39m \u001B[38;5;241m=\u001B[39m context\u001B[38;5;241m.\u001B[39mrun(step\u001B[38;5;241m.\u001B[39minvoke, \u001B[38;5;28minput\u001B[39m, config, \u001B[38;5;241m*\u001B[39m\u001B[38;5;241m*\u001B[39mkwargs)\n\u001B[1;32m   3028\u001B[0m         \u001B[38;5;28;01melse\u001B[39;00m:\n\u001B[0;32m-> 3029\u001B[0m             \u001B[38;5;28minput\u001B[39m \u001B[38;5;241m=\u001B[39m \u001B[43mcontext\u001B[49m\u001B[38;5;241;43m.\u001B[39;49m\u001B[43mrun\u001B[49m\u001B[43m(\u001B[49m\u001B[43mstep\u001B[49m\u001B[38;5;241;43m.\u001B[39;49m\u001B[43minvoke\u001B[49m\u001B[43m,\u001B[49m\u001B[43m \u001B[49m\u001B[38;5;28;43minput\u001B[39;49m\u001B[43m,\u001B[49m\u001B[43m \u001B[49m\u001B[43mconfig\u001B[49m\u001B[43m)\u001B[49m\n\u001B[1;32m   3030\u001B[0m \u001B[38;5;66;03m# finish the root run\u001B[39;00m\n\u001B[1;32m   3031\u001B[0m \u001B[38;5;28;01mexcept\u001B[39;00m \u001B[38;5;167;01mBaseException\u001B[39;00m \u001B[38;5;28;01mas\u001B[39;00m e:\n",
      "File \u001B[0;32m~/aim/bootcamp/aim-smajeti/AIE5/15_Open_Source_Endpoints/.venv/lib/python3.9/site-packages/langchain_core/language_models/llms.py:390\u001B[0m, in \u001B[0;36mBaseLLM.invoke\u001B[0;34m(self, input, config, stop, **kwargs)\u001B[0m\n\u001B[1;32m    380\u001B[0m \u001B[38;5;28;01mdef\u001B[39;00m\u001B[38;5;250m \u001B[39m\u001B[38;5;21minvoke\u001B[39m(\n\u001B[1;32m    381\u001B[0m     \u001B[38;5;28mself\u001B[39m,\n\u001B[1;32m    382\u001B[0m     \u001B[38;5;28minput\u001B[39m: LanguageModelInput,\n\u001B[0;32m   (...)\u001B[0m\n\u001B[1;32m    386\u001B[0m     \u001B[38;5;241m*\u001B[39m\u001B[38;5;241m*\u001B[39mkwargs: Any,\n\u001B[1;32m    387\u001B[0m ) \u001B[38;5;241m-\u001B[39m\u001B[38;5;241m>\u001B[39m \u001B[38;5;28mstr\u001B[39m:\n\u001B[1;32m    388\u001B[0m     config \u001B[38;5;241m=\u001B[39m ensure_config(config)\n\u001B[1;32m    389\u001B[0m     \u001B[38;5;28;01mreturn\u001B[39;00m (\n\u001B[0;32m--> 390\u001B[0m         \u001B[38;5;28;43mself\u001B[39;49m\u001B[38;5;241;43m.\u001B[39;49m\u001B[43mgenerate_prompt\u001B[49m\u001B[43m(\u001B[49m\n\u001B[1;32m    391\u001B[0m \u001B[43m            \u001B[49m\u001B[43m[\u001B[49m\u001B[38;5;28;43mself\u001B[39;49m\u001B[38;5;241;43m.\u001B[39;49m\u001B[43m_convert_input\u001B[49m\u001B[43m(\u001B[49m\u001B[38;5;28;43minput\u001B[39;49m\u001B[43m)\u001B[49m\u001B[43m]\u001B[49m\u001B[43m,\u001B[49m\n\u001B[1;32m    392\u001B[0m \u001B[43m            \u001B[49m\u001B[43mstop\u001B[49m\u001B[38;5;241;43m=\u001B[39;49m\u001B[43mstop\u001B[49m\u001B[43m,\u001B[49m\n\u001B[1;32m    393\u001B[0m \u001B[43m            \u001B[49m\u001B[43mcallbacks\u001B[49m\u001B[38;5;241;43m=\u001B[39;49m\u001B[43mconfig\u001B[49m\u001B[38;5;241;43m.\u001B[39;49m\u001B[43mget\u001B[49m\u001B[43m(\u001B[49m\u001B[38;5;124;43m\"\u001B[39;49m\u001B[38;5;124;43mcallbacks\u001B[39;49m\u001B[38;5;124;43m\"\u001B[39;49m\u001B[43m)\u001B[49m\u001B[43m,\u001B[49m\n\u001B[1;32m    394\u001B[0m \u001B[43m            \u001B[49m\u001B[43mtags\u001B[49m\u001B[38;5;241;43m=\u001B[39;49m\u001B[43mconfig\u001B[49m\u001B[38;5;241;43m.\u001B[39;49m\u001B[43mget\u001B[49m\u001B[43m(\u001B[49m\u001B[38;5;124;43m\"\u001B[39;49m\u001B[38;5;124;43mtags\u001B[39;49m\u001B[38;5;124;43m\"\u001B[39;49m\u001B[43m)\u001B[49m\u001B[43m,\u001B[49m\n\u001B[1;32m    395\u001B[0m \u001B[43m            \u001B[49m\u001B[43mmetadata\u001B[49m\u001B[38;5;241;43m=\u001B[39;49m\u001B[43mconfig\u001B[49m\u001B[38;5;241;43m.\u001B[39;49m\u001B[43mget\u001B[49m\u001B[43m(\u001B[49m\u001B[38;5;124;43m\"\u001B[39;49m\u001B[38;5;124;43mmetadata\u001B[39;49m\u001B[38;5;124;43m\"\u001B[39;49m\u001B[43m)\u001B[49m\u001B[43m,\u001B[49m\n\u001B[1;32m    396\u001B[0m \u001B[43m            \u001B[49m\u001B[43mrun_name\u001B[49m\u001B[38;5;241;43m=\u001B[39;49m\u001B[43mconfig\u001B[49m\u001B[38;5;241;43m.\u001B[39;49m\u001B[43mget\u001B[49m\u001B[43m(\u001B[49m\u001B[38;5;124;43m\"\u001B[39;49m\u001B[38;5;124;43mrun_name\u001B[39;49m\u001B[38;5;124;43m\"\u001B[39;49m\u001B[43m)\u001B[49m\u001B[43m,\u001B[49m\n\u001B[1;32m    397\u001B[0m \u001B[43m            \u001B[49m\u001B[43mrun_id\u001B[49m\u001B[38;5;241;43m=\u001B[39;49m\u001B[43mconfig\u001B[49m\u001B[38;5;241;43m.\u001B[39;49m\u001B[43mpop\u001B[49m\u001B[43m(\u001B[49m\u001B[38;5;124;43m\"\u001B[39;49m\u001B[38;5;124;43mrun_id\u001B[39;49m\u001B[38;5;124;43m\"\u001B[39;49m\u001B[43m,\u001B[49m\u001B[43m \u001B[49m\u001B[38;5;28;43;01mNone\u001B[39;49;00m\u001B[43m)\u001B[49m\u001B[43m,\u001B[49m\n\u001B[1;32m    398\u001B[0m \u001B[43m            \u001B[49m\u001B[38;5;241;43m*\u001B[39;49m\u001B[38;5;241;43m*\u001B[39;49m\u001B[43mkwargs\u001B[49m\u001B[43m,\u001B[49m\n\u001B[1;32m    399\u001B[0m \u001B[43m        \u001B[49m\u001B[43m)\u001B[49m\n\u001B[1;32m    400\u001B[0m         \u001B[38;5;241m.\u001B[39mgenerations[\u001B[38;5;241m0\u001B[39m][\u001B[38;5;241m0\u001B[39m]\n\u001B[1;32m    401\u001B[0m         \u001B[38;5;241m.\u001B[39mtext\n\u001B[1;32m    402\u001B[0m     )\n",
      "File \u001B[0;32m~/aim/bootcamp/aim-smajeti/AIE5/15_Open_Source_Endpoints/.venv/lib/python3.9/site-packages/langchain_core/language_models/llms.py:763\u001B[0m, in \u001B[0;36mBaseLLM.generate_prompt\u001B[0;34m(self, prompts, stop, callbacks, **kwargs)\u001B[0m\n\u001B[1;32m    755\u001B[0m \u001B[38;5;28;01mdef\u001B[39;00m\u001B[38;5;250m \u001B[39m\u001B[38;5;21mgenerate_prompt\u001B[39m(\n\u001B[1;32m    756\u001B[0m     \u001B[38;5;28mself\u001B[39m,\n\u001B[1;32m    757\u001B[0m     prompts: \u001B[38;5;28mlist\u001B[39m[PromptValue],\n\u001B[0;32m   (...)\u001B[0m\n\u001B[1;32m    760\u001B[0m     \u001B[38;5;241m*\u001B[39m\u001B[38;5;241m*\u001B[39mkwargs: Any,\n\u001B[1;32m    761\u001B[0m ) \u001B[38;5;241m-\u001B[39m\u001B[38;5;241m>\u001B[39m LLMResult:\n\u001B[1;32m    762\u001B[0m     prompt_strings \u001B[38;5;241m=\u001B[39m [p\u001B[38;5;241m.\u001B[39mto_string() \u001B[38;5;28;01mfor\u001B[39;00m p \u001B[38;5;129;01min\u001B[39;00m prompts]\n\u001B[0;32m--> 763\u001B[0m     \u001B[38;5;28;01mreturn\u001B[39;00m \u001B[38;5;28;43mself\u001B[39;49m\u001B[38;5;241;43m.\u001B[39;49m\u001B[43mgenerate\u001B[49m\u001B[43m(\u001B[49m\u001B[43mprompt_strings\u001B[49m\u001B[43m,\u001B[49m\u001B[43m \u001B[49m\u001B[43mstop\u001B[49m\u001B[38;5;241;43m=\u001B[39;49m\u001B[43mstop\u001B[49m\u001B[43m,\u001B[49m\u001B[43m \u001B[49m\u001B[43mcallbacks\u001B[49m\u001B[38;5;241;43m=\u001B[39;49m\u001B[43mcallbacks\u001B[49m\u001B[43m,\u001B[49m\u001B[43m \u001B[49m\u001B[38;5;241;43m*\u001B[39;49m\u001B[38;5;241;43m*\u001B[39;49m\u001B[43mkwargs\u001B[49m\u001B[43m)\u001B[49m\n",
      "File \u001B[0;32m~/aim/bootcamp/aim-smajeti/AIE5/15_Open_Source_Endpoints/.venv/lib/python3.9/site-packages/langchain_core/language_models/llms.py:966\u001B[0m, in \u001B[0;36mBaseLLM.generate\u001B[0;34m(self, prompts, stop, callbacks, tags, metadata, run_name, run_id, **kwargs)\u001B[0m\n\u001B[1;32m    951\u001B[0m \u001B[38;5;28;01mif\u001B[39;00m (\u001B[38;5;28mself\u001B[39m\u001B[38;5;241m.\u001B[39mcache \u001B[38;5;129;01mis\u001B[39;00m \u001B[38;5;28;01mNone\u001B[39;00m \u001B[38;5;129;01mand\u001B[39;00m get_llm_cache() \u001B[38;5;129;01mis\u001B[39;00m \u001B[38;5;28;01mNone\u001B[39;00m) \u001B[38;5;129;01mor\u001B[39;00m \u001B[38;5;28mself\u001B[39m\u001B[38;5;241m.\u001B[39mcache \u001B[38;5;129;01mis\u001B[39;00m \u001B[38;5;28;01mFalse\u001B[39;00m:\n\u001B[1;32m    952\u001B[0m     run_managers \u001B[38;5;241m=\u001B[39m [\n\u001B[1;32m    953\u001B[0m         callback_manager\u001B[38;5;241m.\u001B[39mon_llm_start(\n\u001B[1;32m    954\u001B[0m             \u001B[38;5;28mself\u001B[39m\u001B[38;5;241m.\u001B[39m_serialized,\n\u001B[0;32m   (...)\u001B[0m\n\u001B[1;32m    964\u001B[0m         )\n\u001B[1;32m    965\u001B[0m     ]\n\u001B[0;32m--> 966\u001B[0m     output \u001B[38;5;241m=\u001B[39m \u001B[38;5;28;43mself\u001B[39;49m\u001B[38;5;241;43m.\u001B[39;49m\u001B[43m_generate_helper\u001B[49m\u001B[43m(\u001B[49m\n\u001B[1;32m    967\u001B[0m \u001B[43m        \u001B[49m\u001B[43mprompts\u001B[49m\u001B[43m,\u001B[49m\u001B[43m \u001B[49m\u001B[43mstop\u001B[49m\u001B[43m,\u001B[49m\u001B[43m \u001B[49m\u001B[43mrun_managers\u001B[49m\u001B[43m,\u001B[49m\u001B[43m \u001B[49m\u001B[38;5;28;43mbool\u001B[39;49m\u001B[43m(\u001B[49m\u001B[43mnew_arg_supported\u001B[49m\u001B[43m)\u001B[49m\u001B[43m,\u001B[49m\u001B[43m \u001B[49m\u001B[38;5;241;43m*\u001B[39;49m\u001B[38;5;241;43m*\u001B[39;49m\u001B[43mkwargs\u001B[49m\n\u001B[1;32m    968\u001B[0m \u001B[43m    \u001B[49m\u001B[43m)\u001B[49m\n\u001B[1;32m    969\u001B[0m     \u001B[38;5;28;01mreturn\u001B[39;00m output\n\u001B[1;32m    970\u001B[0m \u001B[38;5;28;01mif\u001B[39;00m \u001B[38;5;28mlen\u001B[39m(missing_prompts) \u001B[38;5;241m>\u001B[39m \u001B[38;5;241m0\u001B[39m:\n",
      "File \u001B[0;32m~/aim/bootcamp/aim-smajeti/AIE5/15_Open_Source_Endpoints/.venv/lib/python3.9/site-packages/langchain_core/language_models/llms.py:787\u001B[0m, in \u001B[0;36mBaseLLM._generate_helper\u001B[0;34m(self, prompts, stop, run_managers, new_arg_supported, **kwargs)\u001B[0m\n\u001B[1;32m    777\u001B[0m \u001B[38;5;28;01mdef\u001B[39;00m\u001B[38;5;250m \u001B[39m\u001B[38;5;21m_generate_helper\u001B[39m(\n\u001B[1;32m    778\u001B[0m     \u001B[38;5;28mself\u001B[39m,\n\u001B[1;32m    779\u001B[0m     prompts: \u001B[38;5;28mlist\u001B[39m[\u001B[38;5;28mstr\u001B[39m],\n\u001B[0;32m   (...)\u001B[0m\n\u001B[1;32m    783\u001B[0m     \u001B[38;5;241m*\u001B[39m\u001B[38;5;241m*\u001B[39mkwargs: Any,\n\u001B[1;32m    784\u001B[0m ) \u001B[38;5;241m-\u001B[39m\u001B[38;5;241m>\u001B[39m LLMResult:\n\u001B[1;32m    785\u001B[0m     \u001B[38;5;28;01mtry\u001B[39;00m:\n\u001B[1;32m    786\u001B[0m         output \u001B[38;5;241m=\u001B[39m (\n\u001B[0;32m--> 787\u001B[0m             \u001B[38;5;28;43mself\u001B[39;49m\u001B[38;5;241;43m.\u001B[39;49m\u001B[43m_generate\u001B[49m\u001B[43m(\u001B[49m\n\u001B[1;32m    788\u001B[0m \u001B[43m                \u001B[49m\u001B[43mprompts\u001B[49m\u001B[43m,\u001B[49m\n\u001B[1;32m    789\u001B[0m \u001B[43m                \u001B[49m\u001B[43mstop\u001B[49m\u001B[38;5;241;43m=\u001B[39;49m\u001B[43mstop\u001B[49m\u001B[43m,\u001B[49m\n\u001B[1;32m    790\u001B[0m \u001B[43m                \u001B[49m\u001B[38;5;66;43;03m# TODO: support multiple run managers\u001B[39;49;00m\n\u001B[1;32m    791\u001B[0m \u001B[43m                \u001B[49m\u001B[43mrun_manager\u001B[49m\u001B[38;5;241;43m=\u001B[39;49m\u001B[43mrun_managers\u001B[49m\u001B[43m[\u001B[49m\u001B[38;5;241;43m0\u001B[39;49m\u001B[43m]\u001B[49m\u001B[43m \u001B[49m\u001B[38;5;28;43;01mif\u001B[39;49;00m\u001B[43m \u001B[49m\u001B[43mrun_managers\u001B[49m\u001B[43m \u001B[49m\u001B[38;5;28;43;01melse\u001B[39;49;00m\u001B[43m \u001B[49m\u001B[38;5;28;43;01mNone\u001B[39;49;00m\u001B[43m,\u001B[49m\n\u001B[1;32m    792\u001B[0m \u001B[43m                \u001B[49m\u001B[38;5;241;43m*\u001B[39;49m\u001B[38;5;241;43m*\u001B[39;49m\u001B[43mkwargs\u001B[49m\u001B[43m,\u001B[49m\n\u001B[1;32m    793\u001B[0m \u001B[43m            \u001B[49m\u001B[43m)\u001B[49m\n\u001B[1;32m    794\u001B[0m             \u001B[38;5;28;01mif\u001B[39;00m new_arg_supported\n\u001B[1;32m    795\u001B[0m             \u001B[38;5;28;01melse\u001B[39;00m \u001B[38;5;28mself\u001B[39m\u001B[38;5;241m.\u001B[39m_generate(prompts, stop\u001B[38;5;241m=\u001B[39mstop)\n\u001B[1;32m    796\u001B[0m         )\n\u001B[1;32m    797\u001B[0m     \u001B[38;5;28;01mexcept\u001B[39;00m \u001B[38;5;167;01mBaseException\u001B[39;00m \u001B[38;5;28;01mas\u001B[39;00m e:\n\u001B[1;32m    798\u001B[0m         \u001B[38;5;28;01mfor\u001B[39;00m run_manager \u001B[38;5;129;01min\u001B[39;00m run_managers:\n",
      "File \u001B[0;32m~/aim/bootcamp/aim-smajeti/AIE5/15_Open_Source_Endpoints/.venv/lib/python3.9/site-packages/langchain_core/language_models/llms.py:1526\u001B[0m, in \u001B[0;36mLLM._generate\u001B[0;34m(self, prompts, stop, run_manager, **kwargs)\u001B[0m\n\u001B[1;32m   1523\u001B[0m new_arg_supported \u001B[38;5;241m=\u001B[39m inspect\u001B[38;5;241m.\u001B[39msignature(\u001B[38;5;28mself\u001B[39m\u001B[38;5;241m.\u001B[39m_call)\u001B[38;5;241m.\u001B[39mparameters\u001B[38;5;241m.\u001B[39mget(\u001B[38;5;124m\"\u001B[39m\u001B[38;5;124mrun_manager\u001B[39m\u001B[38;5;124m\"\u001B[39m)\n\u001B[1;32m   1524\u001B[0m \u001B[38;5;28;01mfor\u001B[39;00m prompt \u001B[38;5;129;01min\u001B[39;00m prompts:\n\u001B[1;32m   1525\u001B[0m     text \u001B[38;5;241m=\u001B[39m (\n\u001B[0;32m-> 1526\u001B[0m         \u001B[38;5;28;43mself\u001B[39;49m\u001B[38;5;241;43m.\u001B[39;49m\u001B[43m_call\u001B[49m\u001B[43m(\u001B[49m\u001B[43mprompt\u001B[49m\u001B[43m,\u001B[49m\u001B[43m \u001B[49m\u001B[43mstop\u001B[49m\u001B[38;5;241;43m=\u001B[39;49m\u001B[43mstop\u001B[49m\u001B[43m,\u001B[49m\u001B[43m \u001B[49m\u001B[43mrun_manager\u001B[49m\u001B[38;5;241;43m=\u001B[39;49m\u001B[43mrun_manager\u001B[49m\u001B[43m,\u001B[49m\u001B[43m \u001B[49m\u001B[38;5;241;43m*\u001B[39;49m\u001B[38;5;241;43m*\u001B[39;49m\u001B[43mkwargs\u001B[49m\u001B[43m)\u001B[49m\n\u001B[1;32m   1527\u001B[0m         \u001B[38;5;28;01mif\u001B[39;00m new_arg_supported\n\u001B[1;32m   1528\u001B[0m         \u001B[38;5;28;01melse\u001B[39;00m \u001B[38;5;28mself\u001B[39m\u001B[38;5;241m.\u001B[39m_call(prompt, stop\u001B[38;5;241m=\u001B[39mstop, \u001B[38;5;241m*\u001B[39m\u001B[38;5;241m*\u001B[39mkwargs)\n\u001B[1;32m   1529\u001B[0m     )\n\u001B[1;32m   1530\u001B[0m     generations\u001B[38;5;241m.\u001B[39mappend([Generation(text\u001B[38;5;241m=\u001B[39mtext)])\n\u001B[1;32m   1531\u001B[0m \u001B[38;5;28;01mreturn\u001B[39;00m LLMResult(generations\u001B[38;5;241m=\u001B[39mgenerations)\n",
      "File \u001B[0;32m~/aim/bootcamp/aim-smajeti/AIE5/15_Open_Source_Endpoints/.venv/lib/python3.9/site-packages/langchain_community/llms/huggingface_endpoint.py:267\u001B[0m, in \u001B[0;36mHuggingFaceEndpoint._call\u001B[0;34m(self, prompt, stop, run_manager, **kwargs)\u001B[0m\n\u001B[1;32m    263\u001B[0m \u001B[38;5;28;01melse\u001B[39;00m:\n\u001B[1;32m    264\u001B[0m     invocation_params[\u001B[38;5;124m\"\u001B[39m\u001B[38;5;124mstop\u001B[39m\u001B[38;5;124m\"\u001B[39m] \u001B[38;5;241m=\u001B[39m invocation_params[\n\u001B[1;32m    265\u001B[0m         \u001B[38;5;124m\"\u001B[39m\u001B[38;5;124mstop_sequences\u001B[39m\u001B[38;5;124m\"\u001B[39m\n\u001B[1;32m    266\u001B[0m     ]  \u001B[38;5;66;03m# porting 'stop_sequences' into the 'stop' argument\u001B[39;00m\n\u001B[0;32m--> 267\u001B[0m     response \u001B[38;5;241m=\u001B[39m \u001B[38;5;28;43mself\u001B[39;49m\u001B[38;5;241;43m.\u001B[39;49m\u001B[43mclient\u001B[49m\u001B[38;5;241;43m.\u001B[39;49m\u001B[43mpost\u001B[49m\u001B[43m(\u001B[49m\n\u001B[1;32m    268\u001B[0m \u001B[43m        \u001B[49m\u001B[43mjson\u001B[49m\u001B[38;5;241;43m=\u001B[39;49m\u001B[43m{\u001B[49m\u001B[38;5;124;43m\"\u001B[39;49m\u001B[38;5;124;43minputs\u001B[39;49m\u001B[38;5;124;43m\"\u001B[39;49m\u001B[43m:\u001B[49m\u001B[43m \u001B[49m\u001B[43mprompt\u001B[49m\u001B[43m,\u001B[49m\u001B[43m \u001B[49m\u001B[38;5;124;43m\"\u001B[39;49m\u001B[38;5;124;43mparameters\u001B[39;49m\u001B[38;5;124;43m\"\u001B[39;49m\u001B[43m:\u001B[49m\u001B[43m \u001B[49m\u001B[43minvocation_params\u001B[49m\u001B[43m}\u001B[49m\u001B[43m,\u001B[49m\n\u001B[1;32m    269\u001B[0m \u001B[43m        \u001B[49m\u001B[43mstream\u001B[49m\u001B[38;5;241;43m=\u001B[39;49m\u001B[38;5;28;43;01mFalse\u001B[39;49;00m\u001B[43m,\u001B[49m\n\u001B[1;32m    270\u001B[0m \u001B[43m        \u001B[49m\u001B[43mtask\u001B[49m\u001B[38;5;241;43m=\u001B[39;49m\u001B[38;5;28;43mself\u001B[39;49m\u001B[38;5;241;43m.\u001B[39;49m\u001B[43mtask\u001B[49m\u001B[43m,\u001B[49m\n\u001B[1;32m    271\u001B[0m \u001B[43m    \u001B[49m\u001B[43m)\u001B[49m\n\u001B[1;32m    272\u001B[0m     \u001B[38;5;28;01mtry\u001B[39;00m:\n\u001B[1;32m    273\u001B[0m         response_text \u001B[38;5;241m=\u001B[39m json\u001B[38;5;241m.\u001B[39mloads(response\u001B[38;5;241m.\u001B[39mdecode())[\u001B[38;5;241m0\u001B[39m][\u001B[38;5;124m\"\u001B[39m\u001B[38;5;124mgenerated_text\u001B[39m\u001B[38;5;124m\"\u001B[39m]\n",
      "File \u001B[0;32m~/aim/bootcamp/aim-smajeti/AIE5/15_Open_Source_Endpoints/.venv/lib/python3.9/site-packages/huggingface_hub/inference/_client.py:306\u001B[0m, in \u001B[0;36mInferenceClient.post\u001B[0;34m(self, json, data, model, task, stream)\u001B[0m\n\u001B[1;32m    303\u001B[0m         \u001B[38;5;28;01mraise\u001B[39;00m InferenceTimeoutError(\u001B[38;5;124mf\u001B[39m\u001B[38;5;124m\"\u001B[39m\u001B[38;5;124mInference call timed out: \u001B[39m\u001B[38;5;132;01m{\u001B[39;00murl\u001B[38;5;132;01m}\u001B[39;00m\u001B[38;5;124m\"\u001B[39m) \u001B[38;5;28;01mfrom\u001B[39;00m\u001B[38;5;250m \u001B[39m\u001B[38;5;21;01merror\u001B[39;00m  \u001B[38;5;66;03m# type: ignore\u001B[39;00m\n\u001B[1;32m    305\u001B[0m \u001B[38;5;28;01mtry\u001B[39;00m:\n\u001B[0;32m--> 306\u001B[0m     \u001B[43mhf_raise_for_status\u001B[49m\u001B[43m(\u001B[49m\u001B[43mresponse\u001B[49m\u001B[43m)\u001B[49m\n\u001B[1;32m    307\u001B[0m     \u001B[38;5;28;01mreturn\u001B[39;00m response\u001B[38;5;241m.\u001B[39miter_lines() \u001B[38;5;28;01mif\u001B[39;00m stream \u001B[38;5;28;01melse\u001B[39;00m response\u001B[38;5;241m.\u001B[39mcontent\n\u001B[1;32m    308\u001B[0m \u001B[38;5;28;01mexcept\u001B[39;00m HTTPError \u001B[38;5;28;01mas\u001B[39;00m error:\n",
      "File \u001B[0;32m~/aim/bootcamp/aim-smajeti/AIE5/15_Open_Source_Endpoints/.venv/lib/python3.9/site-packages/huggingface_hub/utils/_http.py:477\u001B[0m, in \u001B[0;36mhf_raise_for_status\u001B[0;34m(response, endpoint_name)\u001B[0m\n\u001B[1;32m    473\u001B[0m     \u001B[38;5;28;01mraise\u001B[39;00m _format(HfHubHTTPError, message, response) \u001B[38;5;28;01mfrom\u001B[39;00m\u001B[38;5;250m \u001B[39m\u001B[38;5;21;01me\u001B[39;00m\n\u001B[1;32m    475\u001B[0m \u001B[38;5;66;03m# Convert `HTTPError` into a `HfHubHTTPError` to display request information\u001B[39;00m\n\u001B[1;32m    476\u001B[0m \u001B[38;5;66;03m# as well (request id and/or server error message)\u001B[39;00m\n\u001B[0;32m--> 477\u001B[0m \u001B[38;5;28;01mraise\u001B[39;00m _format(HfHubHTTPError, \u001B[38;5;28mstr\u001B[39m(e), response) \u001B[38;5;28;01mfrom\u001B[39;00m\u001B[38;5;250m \u001B[39m\u001B[38;5;21;01me\u001B[39;00m\n",
      "\u001B[0;31mHfHubHTTPError\u001B[0m: 422 Client Error: Unprocessable Entity for url: https://c3lhpwroyou5gs1w.us-east-1.aws.endpoints.huggingface.cloud/ (Request ID: Fm6riq)\n\nInput validation error: `inputs` tokens + `max_new_tokens` must be <= 1512. Given: 1004 `inputs` tokens and 512 `max_new_tokens`\nMake sure 'text-generation' task is supported by the model."
     ]
    }
   ],
   "execution_count": 19
  }
 ],
 "metadata": {
  "colab": {
   "provenance": [],
   "toc_visible": true
  },
  "kernelspec": {
   "display_name": ".venv",
   "language": "python",
   "name": "python3"
  },
  "language_info": {
   "codemirror_mode": {
    "name": "ipython",
    "version": 3
   },
   "file_extension": ".py",
   "mimetype": "text/x-python",
   "name": "python",
   "nbconvert_exporter": "python",
   "pygments_lexer": "ipython3",
   "version": "3.9.21"
  }
 },
 "nbformat": 4,
 "nbformat_minor": 0
}
