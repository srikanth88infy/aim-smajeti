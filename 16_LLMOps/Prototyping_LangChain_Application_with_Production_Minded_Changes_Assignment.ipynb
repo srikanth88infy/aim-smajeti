{
 "cells": [
  {
   "cell_type": "markdown",
   "metadata": {
    "id": "8ZsP-j7w3zcL"
   },
   "source": [
    "# Prototyping LangChain Application with Production Minded Changes\n",
    "\n",
    "For our first breakout room we'll be exploring how to set-up a LangChain LCEL chain in a way that takes advantage of all of the amazing out of the box production ready features it offers.\n",
    "\n",
    "We'll also explore `Caching` and what makes it an invaluable tool when transitioning to production environments.\n"
   ]
  },
  {
   "cell_type": "markdown",
   "metadata": {
    "id": "PpeN9ND0HKa0"
   },
   "source": [
    "## Task 1: Dependencies and Set-Up\n",
    "\n",
    "Let's get everything we need - we're going to use very specific versioning today to try to mitigate potential env. issues!\n",
    "\n",
    "> NOTE: Dependency issues are a large portion of what you're going to be tackling as you integrate new technology into your work - please keep in mind that one of the things you should be passively learning throughout this course is ways to mitigate dependency issues."
   ]
  },
  {
   "cell_type": "code",
   "execution_count": 24,
   "metadata": {
    "id": "0P4IJUQF27jW"
   },
   "outputs": [],
   "source": [
    "!pip install -qU langchain_openai==0.2.0 langchain_community==0.3.0 langchain==0.3.0 pymupdf==1.24.10 qdrant-client==1.11.2 langchain_qdrant==0.1.4 langsmith==0.1.121 langchain_huggingface==0.2.0"
   ]
  },
  {
   "cell_type": "markdown",
   "metadata": {
    "id": "qYcWLzrmHgDb"
   },
   "source": [
    "We'll need an HF Token:"
   ]
  },
  {
   "cell_type": "code",
   "metadata": {
    "colab": {
     "base_uri": "https://localhost:8080/"
    },
    "id": "GZ8qfrFh_6ed",
    "outputId": "4fb1a16f-1f71-4d0a-aad4-dd0d0917abc5",
    "ExecuteTime": {
     "end_time": "2025-03-13T20:18:12.244232Z",
     "start_time": "2025-03-13T20:18:03.845184Z"
    }
   },
   "source": [
    "import os\n",
    "import getpass\n",
    "\n",
    "os.environ[\"HF_TOKEN\"] = getpass.getpass(\"HF Token Key:\")"
   ],
   "outputs": [],
   "execution_count": 1
  },
  {
   "cell_type": "markdown",
   "metadata": {
    "id": "piz2DUDuHiSO"
   },
   "source": [
    "And the LangSmith set-up:"
   ]
  },
  {
   "cell_type": "code",
   "metadata": {
    "colab": {
     "base_uri": "https://localhost:8080/"
    },
    "id": "wLZX5zowCh-q",
    "outputId": "565c588a-a865-4b86-d5ca-986f35153000",
    "ExecuteTime": {
     "end_time": "2025-03-13T20:18:26.554464Z",
     "start_time": "2025-03-13T20:18:16.650316Z"
    }
   },
   "source": [
    "import uuid\n",
    "\n",
    "os.environ[\"LANGCHAIN_PROJECT\"] = f\"AIM Session 16 - {uuid.uuid4().hex[0:8]}\"\n",
    "os.environ[\"LANGCHAIN_TRACING_V2\"] = \"true\"\n",
    "os.environ[\"LANGCHAIN_API_KEY\"] = getpass.getpass(\"LangChain API Key:\")"
   ],
   "outputs": [],
   "execution_count": 2
  },
  {
   "cell_type": "markdown",
   "metadata": {
    "id": "WmwNTziKHrQm"
   },
   "source": [
    "Let's verify our project so we can leverage it in LangSmith later."
   ]
  },
  {
   "cell_type": "code",
   "metadata": {
    "colab": {
     "base_uri": "https://localhost:8080/"
    },
    "id": "T6GZmkVkFcHq",
    "outputId": "f4c0fdb3-24ea-429a-fa8c-23556cb7c3ed",
    "ExecuteTime": {
     "end_time": "2025-03-13T20:18:30.249513Z",
     "start_time": "2025-03-13T20:18:30.247080Z"
    }
   },
   "source": [
    "print(os.environ[\"LANGCHAIN_PROJECT\"])"
   ],
   "outputs": [
    {
     "name": "stdout",
     "output_type": "stream",
     "text": [
      "AIM Session 16 - bcf5b04f\n"
     ]
    }
   ],
   "execution_count": 3
  },
  {
   "cell_type": "markdown",
   "metadata": {
    "id": "un_ppfaAHv1J"
   },
   "source": [
    "## Task 2: Setting up RAG With Production in Mind\n",
    "\n",
    "This is the most crucial step in the process - in order to take advantage of:\n",
    "\n",
    "- Asyncronous requests\n",
    "- Parallel Execution in Chains\n",
    "- And more...\n",
    "\n",
    "You must...use LCEL. These benefits are provided out of the box and largely optimized behind the scenes."
   ]
  },
  {
   "cell_type": "markdown",
   "metadata": {
    "id": "vGi-db23JMAL"
   },
   "source": [
    "### Building our RAG Components: Retriever\n",
    "\n",
    "We'll start by building some familiar components - and showcase how they automatically scale to production features."
   ]
  },
  {
   "cell_type": "markdown",
   "metadata": {
    "id": "zvbT3HSDJemE"
   },
   "source": [
    "Please upload a PDF file to use in this example!"
   ]
  },
  {
   "cell_type": "code",
   "metadata": {
    "colab": {
     "base_uri": "https://localhost:8080/",
     "height": 73
    },
    "id": "dvYczNeY91Hn",
    "outputId": "c711c29b-e388-4d32-a763-f4504244eef2",
    "ExecuteTime": {
     "end_time": "2025-03-13T20:18:35.962936Z",
     "start_time": "2025-03-13T20:18:35.805794Z"
    }
   },
   "source": [
    "from google.colab import files\n",
    "uploaded = files.upload()"
   ],
   "outputs": [
    {
     "ename": "ModuleNotFoundError",
     "evalue": "No module named 'google.colab'",
     "output_type": "error",
     "traceback": [
      "\u001B[0;31m---------------------------------------------------------------------------\u001B[0m",
      "\u001B[0;31mModuleNotFoundError\u001B[0m                       Traceback (most recent call last)",
      "Cell \u001B[0;32mIn[4], line 1\u001B[0m\n\u001B[0;32m----> 1\u001B[0m \u001B[38;5;28;01mfrom\u001B[39;00m\u001B[38;5;250m \u001B[39m\u001B[38;5;21;01mgoogle\u001B[39;00m\u001B[38;5;21;01m.\u001B[39;00m\u001B[38;5;21;01mcolab\u001B[39;00m\u001B[38;5;250m \u001B[39m\u001B[38;5;28;01mimport\u001B[39;00m files\n\u001B[1;32m      2\u001B[0m uploaded \u001B[38;5;241m=\u001B[39m files\u001B[38;5;241m.\u001B[39mupload()\n",
      "\u001B[0;31mModuleNotFoundError\u001B[0m: No module named 'google.colab'"
     ]
    }
   ],
   "execution_count": 4
  },
  {
   "cell_type": "code",
   "metadata": {
    "colab": {
     "base_uri": "https://localhost:8080/",
     "height": 35
    },
    "id": "NtwoVUbaJlbW",
    "outputId": "5aa08bae-97c5-4f49-cb23-e9dbf194ecf7",
    "ExecuteTime": {
     "end_time": "2025-03-13T20:20:00.229082Z",
     "start_time": "2025-03-13T20:20:00.225354Z"
    }
   },
   "source": [
    "file_path = \"./DeepSeek_R1.pdf\"\n",
    "file_path"
   ],
   "outputs": [
    {
     "data": {
      "text/plain": [
       "'./DeepSeek_R1.pdf'"
      ]
     },
     "execution_count": 5,
     "metadata": {},
     "output_type": "execute_result"
    }
   ],
   "execution_count": 5
  },
  {
   "cell_type": "markdown",
   "metadata": {
    "id": "kucGy3f0Jhdi"
   },
   "source": [
    "We'll define our chunking strategy."
   ]
  },
  {
   "cell_type": "code",
   "metadata": {
    "id": "G-DNvNFd8je5",
    "ExecuteTime": {
     "end_time": "2025-03-13T20:20:02.974180Z",
     "start_time": "2025-03-13T20:20:02.066351Z"
    }
   },
   "source": [
    "from langchain_text_splitters import RecursiveCharacterTextSplitter\n",
    "\n",
    "text_splitter = RecursiveCharacterTextSplitter(chunk_size=1000, chunk_overlap=100)"
   ],
   "outputs": [],
   "execution_count": 6
  },
  {
   "cell_type": "markdown",
   "metadata": {
    "id": "3_zRRNcLKCZh"
   },
   "source": [
    "We'll chunk our uploaded PDF file."
   ]
  },
  {
   "cell_type": "code",
   "metadata": {
    "id": "KOh6w9ud-ff6",
    "ExecuteTime": {
     "end_time": "2025-03-13T20:29:47.839920Z",
     "start_time": "2025-03-13T20:29:47.777168Z"
    }
   },
   "source": [
    "from langchain_community.document_loaders import PyMuPDFLoader\n",
    "\n",
    "Loader = PyMuPDFLoader\n",
    "loader = Loader(file_path)\n",
    "documents = loader.load()\n",
    "docs = text_splitter.split_documents(documents)\n",
    "for i, doc in enumerate(docs):\n",
    "    doc.metadata[\"source\"] = f\"source_{i}\""
   ],
   "outputs": [],
   "execution_count": 8
  },
  {
   "cell_type": "markdown",
   "metadata": {
    "id": "U4XLeqJMKGdQ"
   },
   "source": [
    "#### QDrant Vector Database - Cache Backed Embeddings\n",
    "\n",
    "The process of embedding is typically a very time consuming one - we must, for ever single vector in our VDB as well as query:\n",
    "\n",
    "1. Send the text to an API endpoint (self-hosted, OpenAI, etc)\n",
    "2. Wait for processing\n",
    "3. Receive response\n",
    "\n",
    "This process costs time, and money - and occurs *every single time a document gets converted into a vector representation*.\n",
    "\n",
    "Instead, what if we:\n",
    "\n",
    "1. Set up a cache that can hold our vectors and embeddings (similar to, or in some cases literally a vector database)\n",
    "2. Send the text to an API endpoint (self-hosted, OpenAI, etc)\n",
    "3. Check the cache to see if we've already converted this text before.\n",
    "  - If we have: Return the vector representation\n",
    "  - Else: Wait for processing and proceed\n",
    "4. Store the text that was converted alongside its vector representation in a cache of some kind.\n",
    "5. Return the vector representation\n",
    "\n",
    "Notice that we can shortcut some instances of \"Wait for processing and proceed\".\n",
    "\n",
    "Let's see how this is implemented in the code."
   ]
  },
  {
   "cell_type": "code",
   "metadata": {
    "id": "dzPUTCua98b2",
    "ExecuteTime": {
     "end_time": "2025-03-13T20:29:55.054556Z",
     "start_time": "2025-03-13T20:29:50.640001Z"
    }
   },
   "source": [
    "from qdrant_client import QdrantClient\n",
    "from qdrant_client.http.models import Distance, VectorParams\n",
    "from langchain.storage import LocalFileStore\n",
    "from langchain_qdrant import QdrantVectorStore\n",
    "from langchain.embeddings import CacheBackedEmbeddings\n",
    "from langchain_huggingface.embeddings import HuggingFaceEndpointEmbeddings\n",
    "import hashlib\n",
    "\n",
    "YOUR_EMBED_MODEL_URL = \"https://mp95gvhqhprt79eo.us-east-1.aws.endpoints.huggingface.cloud\"\n",
    "\n",
    "hf_embeddings = HuggingFaceEndpointEmbeddings(\n",
    "    model=YOUR_EMBED_MODEL_URL,\n",
    "    task=\"feature-extraction\",\n",
    ")\n",
    "\n",
    "collection_name = f\"pdf_to_parse_{uuid.uuid4()}\"\n",
    "client = QdrantClient(\":memory:\")\n",
    "client.create_collection(\n",
    "    collection_name=collection_name,\n",
    "    vectors_config=VectorParams(size=768, distance=Distance.COSINE),\n",
    ")\n",
    "\n",
    "# Create a safe namespace by hashing the model URL\n",
    "safe_namespace = hashlib.md5(hf_embeddings.model.encode()).hexdigest()\n",
    "\n",
    "store = LocalFileStore(\"./cache/\")\n",
    "cached_embedder = CacheBackedEmbeddings.from_bytes_store(\n",
    "    hf_embeddings, store, namespace=safe_namespace, batch_size=32\n",
    ")\n",
    "\n",
    "# Typical QDrant Vector Store Set-up\n",
    "vectorstore = QdrantVectorStore(\n",
    "    client=client,\n",
    "    collection_name=collection_name,\n",
    "    embedding=cached_embedder)\n",
    "vectorstore.add_documents(docs)\n",
    "retriever = vectorstore.as_retriever(search_type=\"mmr\", search_kwargs={\"k\": 1})"
   ],
   "outputs": [
    {
     "name": "stderr",
     "output_type": "stream",
     "text": [
      "/Users/smajeti/aim/bootcamp/aim-smajeti/AIE5/16_LLMOps/.venv/lib/python3.9/site-packages/huggingface_hub/utils/_deprecation.py:131: FutureWarning: 'post' (from 'huggingface_hub.inference._client') is deprecated and will be removed from version '0.31.0'. Making direct POST requests to the inference server is not supported anymore. Please use task methods instead (e.g. `InferenceClient.chat_completion`). If your use case is not supported, please open an issue in https://github.com/huggingface/huggingface_hub.\n",
      "  warnings.warn(warning_message, FutureWarning)\n"
     ]
    }
   ],
   "execution_count": 9
  },
  {
   "cell_type": "markdown",
   "metadata": {
    "id": "QVZGvmNYLomp"
   },
   "source": [
    "##### ❓ Question #1:\n",
    "\n",
    "What are some limitations you can see with this approach? When is this most/least useful. Discuss with your group!\n",
    "\n",
    "> NOTE: There is no single correct answer here!\n",
    "\n",
    "#### Answer #1:\n",
    "\n",
    "1) Remote server for embeddings can bring in problems related to distributed systems. Latency, reliability, fault tolerance, costs etc\n",
    "2) Maximal marginal relevance is not always effective and definetely not when k=1."
   ]
  },
  {
   "cell_type": "markdown",
   "metadata": {
    "id": "vZAOhyb3L9iD"
   },
   "source": [
    "##### 🏗️ Activity #1:\n",
    "\n",
    "Create a simple experiment that tests the cache-backed embeddings."
   ]
  },
  {
   "cell_type": "code",
   "metadata": {
    "id": "M_Mekif6MDqe",
    "ExecuteTime": {
     "end_time": "2025-03-13T20:31:54.350129Z",
     "start_time": "2025-03-13T20:31:54.269978Z"
    }
   },
   "source": [
    "### YOUR CODE HERE\n",
    "import time\n",
    "\n",
    "\n",
    "test_text = \"What is Deepseek R1?\"\n",
    "\n",
    "def time_embedding(embedder, text):\n",
    "    start_time = time.time()\n",
    "    _ = embedder.embed_query(text)\n",
    "    end_time = time.time()\n",
    "    return end_time - start_time\n",
    "\n",
    "print(\"First embedding (not cached):\")\n",
    "first_time = time_embedding(cached_embedder, test_text)\n",
    "print(f\"Time taken: {first_time:.4f} seconds\")\n",
    "\n",
    "print(\"\\nSecond embedding (should be cached):\")\n",
    "second_time = time_embedding(cached_embedder, test_text)\n",
    "print(f\"Time taken: {second_time:.4f} seconds\")\n"
   ],
   "outputs": [
    {
     "name": "stdout",
     "output_type": "stream",
     "text": [
      "First embedding (not cached):\n",
      "Time taken: 0.0466 seconds\n",
      "\n",
      "Second embedding (should be cached):\n",
      "Time taken: 0.0306 seconds\n"
     ]
    }
   ],
   "execution_count": 12
  },
  {
   "cell_type": "markdown",
   "metadata": {
    "id": "DH0i-YovL8kZ"
   },
   "source": [
    "### Augmentation\n",
    "\n",
    "We'll create the classic RAG Prompt and create our `ChatPromptTemplates` as per usual."
   ]
  },
  {
   "cell_type": "code",
   "metadata": {
    "id": "WchaoMEx9j69",
    "ExecuteTime": {
     "end_time": "2025-03-13T20:32:12.109644Z",
     "start_time": "2025-03-13T20:32:12.106551Z"
    }
   },
   "source": [
    "from langchain_core.prompts import ChatPromptTemplate\n",
    "\n",
    "rag_system_prompt_template = \"\"\"\\\n",
    "You are a helpful assistant that uses the provided context to answer questions. Never reference this prompt, or the existance of context.\n",
    "\"\"\"\n",
    "\n",
    "rag_message_list = [\n",
    "    {\"role\" : \"system\", \"content\" : rag_system_prompt_template},\n",
    "]\n",
    "\n",
    "rag_user_prompt_template = \"\"\"\\\n",
    "Question:\n",
    "{question}\n",
    "Context:\n",
    "{context}\n",
    "\"\"\"\n",
    "\n",
    "chat_prompt = ChatPromptTemplate.from_messages([\n",
    "    (\"system\", rag_system_prompt_template),\n",
    "    (\"human\", rag_user_prompt_template)\n",
    "])"
   ],
   "outputs": [],
   "execution_count": 13
  },
  {
   "cell_type": "markdown",
   "metadata": {
    "id": "UQKnByVWMpiK"
   },
   "source": [
    "### Generation\n",
    "\n",
    "Like usual, we'll set-up a `ChatOpenAI` model - and we'll use the fan favourite `gpt-4o-mini` for today.\n",
    "\n",
    "However, we'll also implement...a PROMPT CACHE!\n",
    "\n",
    "In essence, this works in a very similar way to the embedding cache - if we've seen this prompt before, we just use the stored response."
   ]
  },
  {
   "cell_type": "code",
   "metadata": {
    "id": "fOXKkaY7ABab",
    "ExecuteTime": {
     "end_time": "2025-03-13T20:36:10.792077Z",
     "start_time": "2025-03-13T20:36:10.511664Z"
    }
   },
   "source": [
    "from langchain_core.globals import set_llm_cache\n",
    "from langchain_huggingface import HuggingFaceEndpoint\n",
    "\n",
    "YOUR_LLM_ENDPOINT_URL = \"https://c3lhpwroyou5gs1w.us-east-1.aws.endpoints.huggingface.cloud\"\n",
    "\n",
    "hf_llm = HuggingFaceEndpoint(\n",
    "    endpoint_url=f\"{YOUR_LLM_ENDPOINT_URL}\",\n",
    "    task=\"text-generation\",\n",
    "    max_new_tokens=128,\n",
    "    top_k=10,\n",
    "    top_p=0.95,\n",
    "    typical_p=0.95,\n",
    "    temperature=0.01,\n",
    "    repetition_penalty=1.03,\n",
    ")"
   ],
   "outputs": [
    {
     "name": "stderr",
     "output_type": "stream",
     "text": [
      "Note: Environment variable`HF_TOKEN` is set and is the current active token independently from the token you've just configured.\n"
     ]
    }
   ],
   "execution_count": 14
  },
  {
   "cell_type": "markdown",
   "metadata": {
    "id": "mhv8IqZoM9cY"
   },
   "source": [
    "Setting up the cache can be done as follows:"
   ]
  },
  {
   "cell_type": "code",
   "metadata": {
    "id": "thqam26gAyzN",
    "ExecuteTime": {
     "end_time": "2025-03-13T20:36:24.503520Z",
     "start_time": "2025-03-13T20:36:24.501233Z"
    }
   },
   "source": [
    "from langchain_core.caches import InMemoryCache\n",
    "\n",
    "set_llm_cache(InMemoryCache())"
   ],
   "outputs": [],
   "execution_count": 15
  },
  {
   "cell_type": "markdown",
   "metadata": {
    "id": "CvxEovcEM_oA"
   },
   "source": [
    "##### ❓ Question #2:\n",
    "\n",
    "What are some limitations you can see with this approach? When is this most/least useful. Discuss with your group!\n",
    "\n",
    "> NOTE: There is no single correct answer here!\n",
    "\n",
    "##### Answer #2:\n",
    "\n",
    "> Most Useful when all users are querying same set multiple times. Also the system should hit just one endpoint, or a local machine for testing.\n",
    "> least useful when there is a load balancer for multiple nodes of embedding endpoints. Also not very useful when we want to cache a lot of data.\n"
   ]
  },
  {
   "cell_type": "markdown",
   "metadata": {
    "id": "3iCMjVYKNEeV"
   },
   "source": [
    "##### 🏗️ Activity #2:\n",
    "\n",
    "Create a simple experiment that tests the cache-backed embeddings."
   ]
  },
  {
   "cell_type": "code",
   "metadata": {
    "id": "QT5GfmsHNFqP",
    "ExecuteTime": {
     "end_time": "2025-03-13T20:37:11.166465Z",
     "start_time": "2025-03-13T20:37:03.147641Z"
    }
   },
   "source": [
    "### YOUR CODE HERE\n",
    "\n",
    "import time\n",
    "\n",
    "test_text = \"What is Deepseek R1?\"\n",
    "\n",
    "def llm_time(model, text):\n",
    "    start_time = time.time()\n",
    "    model.invoke(text)\n",
    "    end_time = time.time()\n",
    "    return end_time - start_time\n",
    "\n",
    "print(\"First call (not cached):\")\n",
    "first_time = llm_time(hf_llm, test_text)\n",
    "print(f\"Time taken: {first_time:.4f} seconds\")\n",
    "\n",
    "print(\"\\nSecond call (should be cached):\")\n",
    "second_time = llm_time(hf_llm, test_text)\n",
    "print(f\"Time taken: {second_time:.4f} seconds\")"
   ],
   "outputs": [
    {
     "name": "stdout",
     "output_type": "stream",
     "text": [
      "First call (not cached):\n"
     ]
    },
    {
     "name": "stderr",
     "output_type": "stream",
     "text": [
      "/Users/smajeti/aim/bootcamp/aim-smajeti/AIE5/16_LLMOps/.venv/lib/python3.9/site-packages/huggingface_hub/utils/_deprecation.py:131: FutureWarning: 'post' (from 'huggingface_hub.inference._client') is deprecated and will be removed from version '0.31.0'. Making direct POST requests to the inference server is not supported anymore. Please use task methods instead (e.g. `InferenceClient.chat_completion`). If your use case is not supported, please open an issue in https://github.com/huggingface/huggingface_hub.\n",
      "  warnings.warn(warning_message, FutureWarning)\n"
     ]
    },
    {
     "name": "stdout",
     "output_type": "stream",
     "text": [
      "Time taken: 8.0129 seconds\n",
      "\n",
      "Second call (should be cached):\n",
      "Time taken: 0.0008 seconds\n"
     ]
    }
   ],
   "execution_count": 16
  },
  {
   "cell_type": "markdown",
   "metadata": {
    "id": "zyPnNWb9NH7W"
   },
   "source": [
    "## Task 3: RAG LCEL Chain\n",
    "\n",
    "We'll also set-up our typical RAG chain using LCEL.\n",
    "\n",
    "However, this time: We'll specifically call out that the `context` and `question` halves of the first \"link\" in the chain are executed *in parallel* by default!\n",
    "\n",
    "Thanks, LCEL!"
   ]
  },
  {
   "cell_type": "code",
   "metadata": {
    "id": "3JNvSsx_CEtI",
    "ExecuteTime": {
     "end_time": "2025-03-13T20:47:37.305496Z",
     "start_time": "2025-03-13T20:47:37.302489Z"
    }
   },
   "source": [
    "from operator import itemgetter\n",
    "from langchain_core.runnables.passthrough import RunnablePassthrough\n",
    "\n",
    "retrieval_augmented_qa_chain = (\n",
    "        {\"context\": itemgetter(\"question\") | retriever, \"question\": itemgetter(\"question\")}\n",
    "        | RunnablePassthrough.assign(context=itemgetter(\"context\"))\n",
    "        | chat_prompt | hf_llm\n",
    "    )"
   ],
   "outputs": [],
   "execution_count": 20
  },
  {
   "cell_type": "markdown",
   "metadata": {
    "id": "Sx--wVctNdGa"
   },
   "source": [
    "Let's test it out!"
   ]
  },
  {
   "cell_type": "code",
   "metadata": {
    "colab": {
     "base_uri": "https://localhost:8080/"
    },
    "id": "43uQegbnDQKP",
    "outputId": "a9ff032b-4eb2-4f5f-f456-1fc6aa24aaec",
    "ExecuteTime": {
     "end_time": "2025-03-13T20:47:39.987487Z",
     "start_time": "2025-03-13T20:47:39.901316Z"
    }
   },
   "source": [
    "retrieval_augmented_qa_chain.invoke({\"question\" : \"Write 50 things about this document!\"})"
   ],
   "outputs": [
    {
     "name": "stderr",
     "output_type": "stream",
     "text": [
      "/Users/smajeti/aim/bootcamp/aim-smajeti/AIE5/16_LLMOps/.venv/lib/python3.9/site-packages/huggingface_hub/utils/_deprecation.py:131: FutureWarning: 'post' (from 'huggingface_hub.inference._client') is deprecated and will be removed from version '0.31.0'. Making direct POST requests to the inference server is not supported anymore. Please use task methods instead (e.g. `InferenceClient.chat_completion`). If your use case is not supported, please open an issue in https://github.com/huggingface/huggingface_hub.\n",
      "  warnings.warn(warning_message, FutureWarning)\n"
     ]
    },
    {
     "data": {
      "text/plain": [
       "')\\n\\nWhat is the output of this system?\\n\\nThe output of this system is a list of 50 things about the provided document. The system will analyze the document\\'s metadata and content to generate the list. Here is an example output:\\n\\n1. The document is a PDF file named \"DeepSeek_R1.pdf\".\\n2. The document has 22 pages.\\n3. The current page being viewed is page 19.\\n4. The document was created using LaTeX with hyperref.\\n5. The document was produced by pdfTeX-1.40.26.\\n6. The document\\'s title is empty.\\n7. The document\\'s author is'"
      ]
     },
     "execution_count": 21,
     "metadata": {},
     "output_type": "execute_result"
    }
   ],
   "execution_count": 21
  },
  {
   "cell_type": "markdown",
   "metadata": {
    "id": "0tYAvHrJNecy"
   },
   "source": [
    "##### 🏗️ Activity #3:\n",
    "\n",
    "Show, through LangSmith, the different between a trace that is leveraging cache-backed embeddings and LLM calls - and one that isn't.\n",
    "\n",
    "Post screenshots in the notebook!\n",
    "\n"
   ]
  },
  {
   "metadata": {},
   "cell_type": "markdown",
   "source": [
    "![uncached](./uncached_trace.png)\n",
    "![cached](./cached_trace.png)"
   ]
  }
 ],
 "metadata": {
  "colab": {
   "provenance": []
  },
  "kernelspec": {
   "display_name": ".venv",
   "language": "python",
   "name": "python3"
  },
  "language_info": {
   "codemirror_mode": {
    "name": "ipython",
    "version": 3
   },
   "file_extension": ".py",
   "mimetype": "text/x-python",
   "name": "python",
   "nbconvert_exporter": "python",
   "pygments_lexer": "ipython3",
   "version": "3.9.21"
  }
 },
 "nbformat": 4,
 "nbformat_minor": 0
}
